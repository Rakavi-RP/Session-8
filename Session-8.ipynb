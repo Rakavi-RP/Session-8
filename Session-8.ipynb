{
  "nbformat": 4,
  "nbformat_minor": 0,
  "metadata": {
    "colab": {
      "provenance": []
    },
    "kernelspec": {
      "name": "python3",
      "display_name": "Python 3"
    },
    "language_info": {
      "name": "python"
    }
  },
  "cells": [
    {
      "cell_type": "code",
      "execution_count": 1,
      "metadata": {
        "id": "ps8qDkS-bCHB"
      },
      "outputs": [],
      "source": [
        "from __future__ import print_function\n",
        "import torch\n",
        "import torch.nn as nn\n",
        "import torch.nn.functional as F\n",
        "import torch.optim as optim\n",
        "from torchvision import datasets, transforms"
      ]
    },
    {
      "cell_type": "code",
      "source": [
        "%pip install albumentations==1.3.0\n",
        "import albumentations as A\n",
        "from albumentations.pytorch import ToTensorV2\n",
        "\n",
        "train_transforms = A.Compose([\n",
        "    A.HorizontalFlip(p=0.5),\n",
        "    A.ShiftScaleRotate(shift_limit=0.0625, scale_limit=0.1, rotate_limit=45, p=0.5),\n",
        "    A.CoarseDropout(max_holes=1, max_height=16, max_width=16, min_holes=1, min_height=16, min_width=16, fill_value=(0.4914, 0.4822, 0.4465), mask_fill_value=None, p=0.5),  # Updated fill_value\n",
        "    A.Normalize(mean=(0.4914, 0.4822, 0.4465), std=(0.2470, 0.2435, 0.2616)),\n",
        "    ToTensorV2(),\n",
        "])\n",
        "\n",
        "test_transforms = A.Compose([\n",
        "    A.Normalize(mean=(0.4914, 0.4822, 0.4465), std=(0.2470, 0.2435, 0.2616)),\n",
        "    ToTensorV2(),\n",
        "])"
      ],
      "metadata": {
        "colab": {
          "base_uri": "https://localhost:8080/"
        },
        "id": "9DikDacbbFOR",
        "outputId": "a008eb9a-0463-44ac-964e-25bf0ea145bc"
      },
      "execution_count": 2,
      "outputs": [
        {
          "output_type": "stream",
          "name": "stdout",
          "text": [
            "Collecting albumentations==1.3.0\n",
            "  Downloading albumentations-1.3.0-py3-none-any.whl.metadata (34 kB)\n",
            "Requirement already satisfied: numpy>=1.11.1 in /usr/local/lib/python3.10/dist-packages (from albumentations==1.3.0) (1.26.4)\n",
            "Requirement already satisfied: scipy in /usr/local/lib/python3.10/dist-packages (from albumentations==1.3.0) (1.13.1)\n",
            "Requirement already satisfied: scikit-image>=0.16.1 in /usr/local/lib/python3.10/dist-packages (from albumentations==1.3.0) (0.25.0)\n",
            "Requirement already satisfied: PyYAML in /usr/local/lib/python3.10/dist-packages (from albumentations==1.3.0) (6.0.2)\n",
            "Collecting qudida>=0.0.4 (from albumentations==1.3.0)\n",
            "  Downloading qudida-0.0.4-py3-none-any.whl.metadata (1.5 kB)\n",
            "Requirement already satisfied: opencv-python-headless>=4.1.1 in /usr/local/lib/python3.10/dist-packages (from albumentations==1.3.0) (4.10.0.84)\n",
            "Requirement already satisfied: scikit-learn>=0.19.1 in /usr/local/lib/python3.10/dist-packages (from qudida>=0.0.4->albumentations==1.3.0) (1.6.0)\n",
            "Requirement already satisfied: typing-extensions in /usr/local/lib/python3.10/dist-packages (from qudida>=0.0.4->albumentations==1.3.0) (4.12.2)\n",
            "Requirement already satisfied: networkx>=3.0 in /usr/local/lib/python3.10/dist-packages (from scikit-image>=0.16.1->albumentations==1.3.0) (3.4.2)\n",
            "Requirement already satisfied: pillow>=10.1 in /usr/local/lib/python3.10/dist-packages (from scikit-image>=0.16.1->albumentations==1.3.0) (11.0.0)\n",
            "Requirement already satisfied: imageio!=2.35.0,>=2.33 in /usr/local/lib/python3.10/dist-packages (from scikit-image>=0.16.1->albumentations==1.3.0) (2.36.1)\n",
            "Requirement already satisfied: tifffile>=2022.8.12 in /usr/local/lib/python3.10/dist-packages (from scikit-image>=0.16.1->albumentations==1.3.0) (2024.12.12)\n",
            "Requirement already satisfied: packaging>=21 in /usr/local/lib/python3.10/dist-packages (from scikit-image>=0.16.1->albumentations==1.3.0) (24.2)\n",
            "Requirement already satisfied: lazy-loader>=0.4 in /usr/local/lib/python3.10/dist-packages (from scikit-image>=0.16.1->albumentations==1.3.0) (0.4)\n",
            "Requirement already satisfied: joblib>=1.2.0 in /usr/local/lib/python3.10/dist-packages (from scikit-learn>=0.19.1->qudida>=0.0.4->albumentations==1.3.0) (1.4.2)\n",
            "Requirement already satisfied: threadpoolctl>=3.1.0 in /usr/local/lib/python3.10/dist-packages (from scikit-learn>=0.19.1->qudida>=0.0.4->albumentations==1.3.0) (3.5.0)\n",
            "Downloading albumentations-1.3.0-py3-none-any.whl (123 kB)\n",
            "\u001b[2K   \u001b[90m━━━━━━━━━━━━━━━━━━━━━━━━━━━━━━━━━━━━━━━━\u001b[0m \u001b[32m123.5/123.5 kB\u001b[0m \u001b[31m5.6 MB/s\u001b[0m eta \u001b[36m0:00:00\u001b[0m\n",
            "\u001b[?25hDownloading qudida-0.0.4-py3-none-any.whl (3.5 kB)\n",
            "Installing collected packages: qudida, albumentations\n",
            "  Attempting uninstall: albumentations\n",
            "    Found existing installation: albumentations 1.4.20\n",
            "    Uninstalling albumentations-1.4.20:\n",
            "      Successfully uninstalled albumentations-1.4.20\n",
            "Successfully installed albumentations-1.3.0 qudida-0.0.4\n"
          ]
        }
      ]
    },
    {
      "cell_type": "code",
      "source": [
        "import numpy as np\n",
        "from torchvision.datasets import CIFAR10\n",
        "\n",
        "class AlbumentationsDataset(torch.utils.data.Dataset):\n",
        "    def __init__(self, dataset, transform=None):\n",
        "        self.dataset = dataset\n",
        "        self.transform = transform\n",
        "\n",
        "    def __len__(self):\n",
        "        return len(self.dataset)\n",
        "\n",
        "    def __getitem__(self, idx):\n",
        "\n",
        "        image, label = self.dataset[idx]\n",
        "        image = np.array(image)\n",
        "        # Apply albumentations transforms\n",
        "        if self.transform:\n",
        "            image = self.transform(image=image)[\"image\"]\n",
        "        return image, label\n",
        "\n",
        "# Load CIFAR-10 dataset without transforms (albumentations will handle it)\n",
        "train_dataset = CIFAR10(root='./data', train=True, download=True, transform=None)\n",
        "test_dataset = CIFAR10(root='./data', train=False, download=True, transform=None)\n",
        "\n",
        "# Wrap the datasets with AlbumentationsDataset\n",
        "train_dataset = AlbumentationsDataset(train_dataset, transform=train_transforms)\n",
        "test_dataset = AlbumentationsDataset(test_dataset, transform=test_transforms)\n"
      ],
      "metadata": {
        "colab": {
          "base_uri": "https://localhost:8080/"
        },
        "id": "Ly3KTSPVbH-5",
        "outputId": "e9e253a2-c11a-40af-e6a8-112f01d13a5f"
      },
      "execution_count": 3,
      "outputs": [
        {
          "output_type": "stream",
          "name": "stdout",
          "text": [
            "Downloading https://www.cs.toronto.edu/~kriz/cifar-10-python.tar.gz to ./data/cifar-10-python.tar.gz\n"
          ]
        },
        {
          "output_type": "stream",
          "name": "stderr",
          "text": [
            "100%|██████████| 170M/170M [00:02<00:00, 78.4MB/s]\n"
          ]
        },
        {
          "output_type": "stream",
          "name": "stdout",
          "text": [
            "Extracting ./data/cifar-10-python.tar.gz to ./data\n",
            "Files already downloaded and verified\n"
          ]
        }
      ]
    },
    {
      "cell_type": "code",
      "source": [
        "SEED = 1\n",
        "\n",
        "# CUDA?\n",
        "cuda = torch.cuda.is_available()\n",
        "print(\"CUDA Available?\", cuda)\n",
        "\n",
        "# For reproducibility\n",
        "torch.manual_seed(SEED)\n",
        "\n",
        "if cuda:\n",
        "    torch.cuda.manual_seed(SEED)\n",
        "\n",
        "dataloader_args = dict(shuffle=True, batch_size=128, num_workers=4, pin_memory=True) if cuda else dict(shuffle=True, batch_size=64)\n",
        "\n",
        "# train dataloader\n",
        "train_loader = torch.utils.data.DataLoader(train_dataset, **dataloader_args) # Changed 'train' to 'train_dataset'\n",
        "\n",
        "# test dataloader\n",
        "test_loader = torch.utils.data.DataLoader(test_dataset, **dataloader_args) # Changed 'test' to 'test_dataset'"
      ],
      "metadata": {
        "colab": {
          "base_uri": "https://localhost:8080/"
        },
        "id": "OFkxF1lNbJab",
        "outputId": "453e8111-7519-4bc5-d087-ea0448a7f4f5"
      },
      "execution_count": 4,
      "outputs": [
        {
          "output_type": "stream",
          "name": "stdout",
          "text": [
            "CUDA Available? False\n"
          ]
        }
      ]
    },
    {
      "cell_type": "code",
      "source": [
        "#code 2\n",
        "import torch.nn as nn\n",
        "import torch.nn.functional as F\n",
        "\n",
        "class CIFAR10(nn.Module):\n",
        "    def __init__(self):\n",
        "        super(CIFAR10, self).__init__()\n",
        "\n",
        "        # C1:\n",
        "        self.convblock1 = nn.Sequential(\n",
        "            nn.Conv2d(in_channels=3, out_channels=8, kernel_size=(3, 3), padding=1),\n",
        "            nn.BatchNorm2d(8),\n",
        "            nn.ReLU(),\n",
        "            nn.Dropout(0.1),\n",
        "\n",
        "            nn.Conv2d(in_channels=8, out_channels=10, kernel_size=(3, 3), padding=1),\n",
        "            nn.BatchNorm2d(10),\n",
        "            nn.ReLU(),\n",
        "            nn.Dropout(0.1),\n",
        "\n",
        "            nn.Conv2d(in_channels=10, out_channels=20, kernel_size=(3, 3), padding=1),\n",
        "            nn.BatchNorm2d(20),\n",
        "            nn.ReLU(),\n",
        "            nn.Dropout(0.1),\n",
        "\n",
        "            nn.Conv2d(in_channels=20, out_channels=32, kernel_size=(3,3),stride=2,dilation=2,padding=1),  #Downsampling\n",
        "            nn.BatchNorm2d(32),\n",
        "            nn.ReLU(),\n",
        "            nn.Dropout(0.1),\n",
        "\n",
        "        )\n",
        "\n",
        "        # C2:\n",
        "        self.convblock2 = nn.Sequential(\n",
        "            nn.Conv2d(in_channels=32, out_channels=48, kernel_size=(3, 3), padding=1),\n",
        "            nn.BatchNorm2d(48),\n",
        "            nn.ReLU(),\n",
        "            nn.Dropout(0.1),\n",
        "\n",
        "            nn.Conv2d(in_channels=48, out_channels=64, kernel_size=(3, 3), padding=1),\n",
        "            nn.BatchNorm2d(64),\n",
        "            nn.ReLU(),\n",
        "            nn.Dropout(0.1),\n",
        "\n",
        "            nn.Conv2d(in_channels=64, out_channels=48, kernel_size=(3, 3), dilation=2, stride =2, padding=2),  # Dilated convolution, Downsampling\n",
        "            nn.BatchNorm2d(48),\n",
        "            nn.ReLU(),\n",
        "            nn.Dropout(0.1),\n",
        "\n",
        "\n",
        "        )\n",
        "\n",
        "        # C3:\n",
        "        self.convblock3 = nn.Sequential(\n",
        "            nn.Conv2d(in_channels=48, out_channels=32, kernel_size=(3, 3), padding=1),\n",
        "            nn.BatchNorm2d(32),\n",
        "            nn.ReLU(),\n",
        "            nn.Dropout(0.1),\n",
        "\n",
        "            nn.Conv2d(in_channels=32, out_channels=64, kernel_size=(3,3),padding=1),\n",
        "            nn.BatchNorm2d(64),\n",
        "            nn.ReLU(),\n",
        "            nn.Dropout(0.1),\n",
        "\n",
        "            nn.Conv2d(in_channels=64, out_channels=16, kernel_size=(3, 3), dilation=2, padding=2,stride=2),  # Dilated convolution, Downsampling\n",
        "            nn.BatchNorm2d(16),\n",
        "            nn.ReLU(),\n",
        "            nn.Dropout(0.1),\n",
        "\n",
        "        )\n",
        "\n",
        "        # C4:\n",
        "        self.convblock4 = nn.Sequential(\n",
        "            nn.Conv2d(in_channels=16, out_channels=32, kernel_size=(3, 3), padding=1),\n",
        "            nn.BatchNorm2d(32),\n",
        "            nn.ReLU(),\n",
        "            nn.Dropout(0.05),\n",
        "\n",
        "            nn.Conv2d(in_channels=32, out_channels=32, kernel_size=(3, 3), padding=1,dilation=2), #added dilation\n",
        "            nn.BatchNorm2d(32),\n",
        "            nn.ReLU(),\n",
        "            nn.Dropout(0.05),\n",
        "\n",
        "            nn.Conv2d(in_channels=32, out_channels=64, kernel_size=(3,3), stride=1, padding=1,groups=32), #Depthwise convolution\n",
        "            nn.Conv2d(in_channels=64, out_channels=64, kernel_size=(1, 1)),  # Pointwise convolution\n",
        "            nn.BatchNorm2d(64),\n",
        "            nn.ReLU(),\n",
        "            nn.Dropout(0.05),\n",
        "\n",
        "        )\n",
        "\n",
        "        # OUTPUT: Global Average Pooling\n",
        "        self.gap = nn.Sequential(\n",
        "            nn.AdaptiveAvgPool2d((1,1))  # Adjust kernel size based on input dimensions\n",
        "        )\n",
        "\n",
        "    def forward(self, x):\n",
        "        x = self.convblock1(x)\n",
        "        x = self.convblock2(x)\n",
        "        x = self.convblock3(x)\n",
        "        x = self.convblock4(x)\n",
        "        x = self.gap(x)\n",
        "        x = x.view(x.size(0), -1)  # Flatten the tensor to [batch_size, 10]\n",
        "        return F.log_softmax(x, dim=1)\n"
      ],
      "metadata": {
        "id": "2wK4uavpbL4R"
      },
      "execution_count": 5,
      "outputs": []
    },
    {
      "cell_type": "code",
      "source": [
        "%pip install torchsummary\n",
        "from torchsummary import summary\n",
        "\n",
        "model = CIFAR10()\n",
        "\n",
        "device = torch.device(\"cuda\" if torch.cuda.is_available() else \"cpu\")\n",
        "model = model.to(device)\n",
        "summary(model, input_size=(3, 32, 32))\n"
      ],
      "metadata": {
        "colab": {
          "base_uri": "https://localhost:8080/"
        },
        "id": "RdKOhLS_bOOL",
        "outputId": "8e747c71-63a5-4809-faf5-9436c7bf4003"
      },
      "execution_count": 7,
      "outputs": [
        {
          "output_type": "stream",
          "name": "stdout",
          "text": [
            "Requirement already satisfied: torchsummary in /usr/local/lib/python3.10/dist-packages (1.5.1)\n",
            "----------------------------------------------------------------\n",
            "        Layer (type)               Output Shape         Param #\n",
            "================================================================\n",
            "            Conv2d-1            [-1, 8, 32, 32]             224\n",
            "       BatchNorm2d-2            [-1, 8, 32, 32]              16\n",
            "              ReLU-3            [-1, 8, 32, 32]               0\n",
            "           Dropout-4            [-1, 8, 32, 32]               0\n",
            "            Conv2d-5           [-1, 10, 32, 32]             730\n",
            "       BatchNorm2d-6           [-1, 10, 32, 32]              20\n",
            "              ReLU-7           [-1, 10, 32, 32]               0\n",
            "           Dropout-8           [-1, 10, 32, 32]               0\n",
            "            Conv2d-9           [-1, 20, 32, 32]           1,820\n",
            "      BatchNorm2d-10           [-1, 20, 32, 32]              40\n",
            "             ReLU-11           [-1, 20, 32, 32]               0\n",
            "          Dropout-12           [-1, 20, 32, 32]               0\n",
            "           Conv2d-13           [-1, 32, 15, 15]           5,792\n",
            "      BatchNorm2d-14           [-1, 32, 15, 15]              64\n",
            "             ReLU-15           [-1, 32, 15, 15]               0\n",
            "          Dropout-16           [-1, 32, 15, 15]               0\n",
            "           Conv2d-17           [-1, 48, 15, 15]          13,872\n",
            "      BatchNorm2d-18           [-1, 48, 15, 15]              96\n",
            "             ReLU-19           [-1, 48, 15, 15]               0\n",
            "          Dropout-20           [-1, 48, 15, 15]               0\n",
            "           Conv2d-21           [-1, 64, 15, 15]          27,712\n",
            "      BatchNorm2d-22           [-1, 64, 15, 15]             128\n",
            "             ReLU-23           [-1, 64, 15, 15]               0\n",
            "          Dropout-24           [-1, 64, 15, 15]               0\n",
            "           Conv2d-25             [-1, 48, 8, 8]          27,696\n",
            "      BatchNorm2d-26             [-1, 48, 8, 8]              96\n",
            "             ReLU-27             [-1, 48, 8, 8]               0\n",
            "          Dropout-28             [-1, 48, 8, 8]               0\n",
            "           Conv2d-29             [-1, 32, 8, 8]          13,856\n",
            "      BatchNorm2d-30             [-1, 32, 8, 8]              64\n",
            "             ReLU-31             [-1, 32, 8, 8]               0\n",
            "          Dropout-32             [-1, 32, 8, 8]               0\n",
            "           Conv2d-33             [-1, 64, 8, 8]          18,496\n",
            "      BatchNorm2d-34             [-1, 64, 8, 8]             128\n",
            "             ReLU-35             [-1, 64, 8, 8]               0\n",
            "          Dropout-36             [-1, 64, 8, 8]               0\n",
            "           Conv2d-37             [-1, 16, 4, 4]           9,232\n",
            "      BatchNorm2d-38             [-1, 16, 4, 4]              32\n",
            "             ReLU-39             [-1, 16, 4, 4]               0\n",
            "          Dropout-40             [-1, 16, 4, 4]               0\n",
            "           Conv2d-41             [-1, 32, 4, 4]           4,640\n",
            "      BatchNorm2d-42             [-1, 32, 4, 4]              64\n",
            "             ReLU-43             [-1, 32, 4, 4]               0\n",
            "          Dropout-44             [-1, 32, 4, 4]               0\n",
            "           Conv2d-45             [-1, 32, 2, 2]           9,248\n",
            "      BatchNorm2d-46             [-1, 32, 2, 2]              64\n",
            "             ReLU-47             [-1, 32, 2, 2]               0\n",
            "          Dropout-48             [-1, 32, 2, 2]               0\n",
            "           Conv2d-49             [-1, 64, 2, 2]             640\n",
            "           Conv2d-50             [-1, 64, 2, 2]           4,160\n",
            "      BatchNorm2d-51             [-1, 64, 2, 2]             128\n",
            "             ReLU-52             [-1, 64, 2, 2]               0\n",
            "          Dropout-53             [-1, 64, 2, 2]               0\n",
            "AdaptiveAvgPool2d-54             [-1, 64, 1, 1]               0\n",
            "================================================================\n",
            "Total params: 139,058\n",
            "Trainable params: 139,058\n",
            "Non-trainable params: 0\n",
            "----------------------------------------------------------------\n",
            "Input size (MB): 0.01\n",
            "Forward/backward pass size (MB): 2.50\n",
            "Params size (MB): 0.53\n",
            "Estimated Total Size (MB): 3.04\n",
            "----------------------------------------------------------------\n"
          ]
        }
      ]
    },
    {
      "cell_type": "code",
      "source": [
        "from tqdm import tqdm\n",
        "\n",
        "train_losses = []\n",
        "test_losses = []\n",
        "train_acc = []\n",
        "test_acc = []\n",
        "\n",
        "def train(model, device, train_loader, optimizer, epoch):\n",
        "  model.train()\n",
        "  pbar = tqdm(train_loader)\n",
        "  correct = 0\n",
        "  processed = 0\n",
        "  for batch_idx, (data, target) in enumerate(pbar):\n",
        "    # get samples\n",
        "    data, target = data.to(device), target.to(device)\n",
        "\n",
        "    # Init\n",
        "    optimizer.zero_grad()\n",
        "\n",
        "    # Predict\n",
        "    y_pred = model(data)\n",
        "\n",
        "    # Calculate loss\n",
        "    loss = F.nll_loss(y_pred, target)\n",
        "    train_losses.append(loss)\n",
        "\n",
        "    # Backpropagation\n",
        "    loss.backward()\n",
        "    optimizer.step()\n",
        "\n",
        "    # Update pbar-tqdm\n",
        "\n",
        "    pred = y_pred.argmax(dim=1, keepdim=True)  # get the index of the max log-probability\n",
        "    correct += pred.eq(target.view_as(pred)).sum().item()\n",
        "    processed += len(data)\n",
        "\n",
        "    pbar.set_description(desc= f'Loss={loss.item()} Batch_id={batch_idx} Accuracy={100*correct/processed:0.2f}')\n",
        "    train_acc.append(100*correct/processed)\n",
        "\n",
        "def test(model, device, test_loader):\n",
        "    model.eval()\n",
        "    test_loss = 0\n",
        "    correct = 0\n",
        "    with torch.no_grad():\n",
        "        for data, target in test_loader:\n",
        "            data, target = data.to(device), target.to(device)\n",
        "            output = model(data)\n",
        "            test_loss += F.nll_loss(output, target, reduction='sum').item()  # sum up batch loss\n",
        "            pred = output.argmax(dim=1, keepdim=True)  # get the index of the max log-probability\n",
        "            correct += pred.eq(target.view_as(pred)).sum().item()\n",
        "\n",
        "    test_loss /= len(test_loader.dataset)\n",
        "    test_losses.append(test_loss)\n",
        "\n",
        "    print('\\nTest set: Average loss: {:.4f}, Accuracy: {}/{} ({:.2f}%)\\n'.format(\n",
        "        test_loss, correct, len(test_loader.dataset),\n",
        "        100. * correct / len(test_loader.dataset)))\n",
        "\n",
        "    test_acc.append(100. * correct / len(test_loader.dataset))\n",
        "    return test_loss,test_acc"
      ],
      "metadata": {
        "id": "E-x_k6WpbP5i"
      },
      "execution_count": null,
      "outputs": []
    },
    {
      "cell_type": "code",
      "source": [
        "from torch.optim.lr_scheduler import ReduceLROnPlateau\n",
        "import torch.optim as optim\n",
        "\n",
        "model = CIFAR10().to(device)\n",
        "\n",
        "optimizer = optim.Adam(model.parameters(), lr=0.005, weight_decay=1e-4)\n",
        "\n",
        "\n",
        "scheduler = ReduceLROnPlateau(optimizer, mode='min', factor=0.75, patience=3, verbose=True)\n",
        "\n",
        "EPOCHS = 150\n",
        "\n",
        "for epoch in range(1, EPOCHS + 1):\n",
        "    print(\"EPOCH:\", epoch)\n",
        "\n",
        "    # Train the model\n",
        "    train(model, device, train_loader, optimizer, epoch)\n",
        "\n",
        "    test_loss, test_acc = test(model, device, test_loader)\n",
        "    scheduler.step(test_loss)\n"
      ],
      "metadata": {
        "colab": {
          "base_uri": "https://localhost:8080/"
        },
        "id": "Mx7F5OnVbS0p",
        "outputId": "882bdf8c-1785-4f1b-cd29-ab86a8f922bf"
      },
      "execution_count": null,
      "outputs": [
        {
          "metadata": {
            "tags": null
          },
          "name": "stdout",
          "output_type": "stream",
          "text": [
            "EPOCH: 1\n"
          ]
        },
        {
          "metadata": {
            "tags": null
          },
          "name": "stderr",
          "output_type": "stream",
          "text": [
            "Loss=1.784204125404358 Batch_id=390 Accuracy=30.38: 100%|██████████| 391/391 [00:22<00:00, 17.16it/s]\n"
          ]
        },
        {
          "metadata": {
            "tags": null
          },
          "name": "stdout",
          "output_type": "stream",
          "text": [
            "\n",
            "Test set: Average loss: 1.8098, Accuracy: 4465/10000 (44.65%)\n",
            "\n",
            "EPOCH: 2\n"
          ]
        },
        {
          "metadata": {
            "tags": null
          },
          "name": "stderr",
          "output_type": "stream",
          "text": [
            "Loss=1.9006723165512085 Batch_id=390 Accuracy=38.89: 100%|██████████| 391/391 [00:20<00:00, 19.02it/s]\n"
          ]
        },
        {
          "metadata": {
            "tags": null
          },
          "name": "stdout",
          "output_type": "stream",
          "text": [
            "\n",
            "Test set: Average loss: 1.7824, Accuracy: 4194/10000 (41.94%)\n",
            "\n",
            "EPOCH: 3\n"
          ]
        },
        {
          "metadata": {
            "tags": null
          },
          "name": "stderr",
          "output_type": "stream",
          "text": [
            "Loss=1.606075644493103 Batch_id=390 Accuracy=42.69: 100%|██████████| 391/391 [00:21<00:00, 18.57it/s]\n"
          ]
        },
        {
          "metadata": {
            "tags": null
          },
          "name": "stdout",
          "output_type": "stream",
          "text": [
            "\n",
            "Test set: Average loss: 1.4072, Accuracy: 5126/10000 (51.26%)\n",
            "\n",
            "EPOCH: 4\n"
          ]
        },
        {
          "metadata": {
            "tags": null
          },
          "name": "stderr",
          "output_type": "stream",
          "text": [
            "Loss=1.5071799755096436 Batch_id=390 Accuracy=45.11: 100%|██████████| 391/391 [00:21<00:00, 17.90it/s]\n"
          ]
        },
        {
          "metadata": {
            "tags": null
          },
          "name": "stdout",
          "output_type": "stream",
          "text": [
            "\n",
            "Test set: Average loss: 1.2706, Accuracy: 5616/10000 (56.16%)\n",
            "\n",
            "EPOCH: 5\n"
          ]
        },
        {
          "metadata": {
            "tags": null
          },
          "name": "stderr",
          "output_type": "stream",
          "text": [
            "Loss=1.6294333934783936 Batch_id=390 Accuracy=46.85: 100%|██████████| 391/391 [00:20<00:00, 18.67it/s]\n"
          ]
        },
        {
          "metadata": {
            "tags": null
          },
          "name": "stdout",
          "output_type": "stream",
          "text": [
            "\n",
            "Test set: Average loss: 1.1787, Accuracy: 5989/10000 (59.89%)\n",
            "\n",
            "EPOCH: 6\n"
          ]
        },
        {
          "metadata": {
            "tags": null
          },
          "name": "stderr",
          "output_type": "stream",
          "text": [
            "Loss=1.5707405805587769 Batch_id=390 Accuracy=48.68: 100%|██████████| 391/391 [00:20<00:00, 18.85it/s]\n"
          ]
        },
        {
          "metadata": {
            "tags": null
          },
          "name": "stdout",
          "output_type": "stream",
          "text": [
            "\n",
            "Test set: Average loss: 1.2559, Accuracy: 5770/10000 (57.70%)\n",
            "\n",
            "EPOCH: 7\n"
          ]
        },
        {
          "metadata": {
            "tags": null
          },
          "name": "stderr",
          "output_type": "stream",
          "text": [
            "Loss=1.7671916484832764 Batch_id=390 Accuracy=50.36: 100%|██████████| 391/391 [00:22<00:00, 17.08it/s]\n"
          ]
        },
        {
          "metadata": {
            "tags": null
          },
          "name": "stdout",
          "output_type": "stream",
          "text": [
            "\n",
            "Test set: Average loss: 1.0575, Accuracy: 6400/10000 (64.00%)\n",
            "\n",
            "EPOCH: 8\n"
          ]
        },
        {
          "metadata": {
            "tags": null
          },
          "name": "stderr",
          "output_type": "stream",
          "text": [
            "Loss=1.2973809242248535 Batch_id=390 Accuracy=51.41: 100%|██████████| 391/391 [00:21<00:00, 18.45it/s]\n"
          ]
        },
        {
          "metadata": {
            "tags": null
          },
          "name": "stdout",
          "output_type": "stream",
          "text": [
            "\n",
            "Test set: Average loss: 1.0127, Accuracy: 6637/10000 (66.37%)\n",
            "\n",
            "EPOCH: 9\n"
          ]
        },
        {
          "metadata": {
            "tags": null
          },
          "name": "stderr",
          "output_type": "stream",
          "text": [
            "Loss=1.4158809185028076 Batch_id=390 Accuracy=52.42: 100%|██████████| 391/391 [00:21<00:00, 18.48it/s]\n"
          ]
        },
        {
          "metadata": {
            "tags": null
          },
          "name": "stdout",
          "output_type": "stream",
          "text": [
            "\n",
            "Test set: Average loss: 0.9738, Accuracy: 6722/10000 (67.22%)\n",
            "\n",
            "EPOCH: 10\n"
          ]
        },
        {
          "metadata": {
            "tags": null
          },
          "name": "stderr",
          "output_type": "stream",
          "text": [
            "Loss=1.1812047958374023 Batch_id=390 Accuracy=53.68: 100%|██████████| 391/391 [00:21<00:00, 18.59it/s]\n"
          ]
        },
        {
          "metadata": {
            "tags": null
          },
          "name": "stdout",
          "output_type": "stream",
          "text": [
            "\n",
            "Test set: Average loss: 0.9258, Accuracy: 6866/10000 (68.66%)\n",
            "\n",
            "EPOCH: 11\n"
          ]
        },
        {
          "metadata": {
            "tags": null
          },
          "name": "stderr",
          "output_type": "stream",
          "text": [
            "Loss=1.3768517971038818 Batch_id=390 Accuracy=54.39: 100%|██████████| 391/391 [00:20<00:00, 19.37it/s]\n"
          ]
        },
        {
          "metadata": {
            "tags": null
          },
          "name": "stdout",
          "output_type": "stream",
          "text": [
            "\n",
            "Test set: Average loss: 0.9313, Accuracy: 6852/10000 (68.52%)\n",
            "\n",
            "EPOCH: 12\n"
          ]
        },
        {
          "metadata": {
            "tags": null
          },
          "name": "stderr",
          "output_type": "stream",
          "text": [
            "Loss=1.412545084953308 Batch_id=390 Accuracy=55.33: 100%|██████████| 391/391 [00:20<00:00, 19.17it/s]\n"
          ]
        },
        {
          "metadata": {
            "tags": null
          },
          "name": "stdout",
          "output_type": "stream",
          "text": [
            "\n",
            "Test set: Average loss: 0.9776, Accuracy: 6749/10000 (67.49%)\n",
            "\n",
            "EPOCH: 13\n"
          ]
        },
        {
          "metadata": {
            "tags": null
          },
          "name": "stderr",
          "output_type": "stream",
          "text": [
            "Loss=1.263278603553772 Batch_id=390 Accuracy=55.76: 100%|██████████| 391/391 [00:21<00:00, 18.07it/s]\n"
          ]
        },
        {
          "metadata": {
            "tags": null
          },
          "name": "stdout",
          "output_type": "stream",
          "text": [
            "\n",
            "Test set: Average loss: 0.9459, Accuracy: 6928/10000 (69.28%)\n",
            "\n",
            "EPOCH: 14\n"
          ]
        },
        {
          "metadata": {
            "tags": null
          },
          "name": "stderr",
          "output_type": "stream",
          "text": [
            "Loss=1.2716405391693115 Batch_id=390 Accuracy=56.43: 100%|██████████| 391/391 [00:20<00:00, 18.86it/s]\n"
          ]
        },
        {
          "metadata": {
            "tags": null
          },
          "name": "stdout",
          "output_type": "stream",
          "text": [
            "\n",
            "Test set: Average loss: 0.8467, Accuracy: 7145/10000 (71.45%)\n",
            "\n",
            "EPOCH: 15\n"
          ]
        },
        {
          "metadata": {
            "tags": null
          },
          "name": "stderr",
          "output_type": "stream",
          "text": [
            "Loss=1.4615366458892822 Batch_id=390 Accuracy=56.23: 100%|██████████| 391/391 [00:23<00:00, 16.48it/s]\n"
          ]
        },
        {
          "metadata": {
            "tags": null
          },
          "name": "stdout",
          "output_type": "stream",
          "text": [
            "\n",
            "Test set: Average loss: 0.9183, Accuracy: 6917/10000 (69.17%)\n",
            "\n",
            "EPOCH: 16\n"
          ]
        },
        {
          "metadata": {
            "tags": null
          },
          "name": "stderr",
          "output_type": "stream",
          "text": [
            "Loss=1.4782698154449463 Batch_id=390 Accuracy=57.20: 100%|██████████| 391/391 [00:21<00:00, 18.47it/s]\n"
          ]
        },
        {
          "metadata": {
            "tags": null
          },
          "name": "stdout",
          "output_type": "stream",
          "text": [
            "\n",
            "Test set: Average loss: 0.8801, Accuracy: 7010/10000 (70.10%)\n",
            "\n",
            "EPOCH: 17\n"
          ]
        },
        {
          "metadata": {
            "tags": null
          },
          "name": "stderr",
          "output_type": "stream",
          "text": [
            "Loss=1.2419559955596924 Batch_id=390 Accuracy=57.31: 100%|██████████| 391/391 [00:21<00:00, 18.54it/s]\n"
          ]
        },
        {
          "metadata": {
            "tags": null
          },
          "name": "stdout",
          "output_type": "stream",
          "text": [
            "\n",
            "Test set: Average loss: 0.8591, Accuracy: 7131/10000 (71.31%)\n",
            "\n",
            "EPOCH: 18\n"
          ]
        },
        {
          "metadata": {
            "tags": null
          },
          "name": "stderr",
          "output_type": "stream",
          "text": [
            "Loss=1.2528436183929443 Batch_id=390 Accuracy=57.39: 100%|██████████| 391/391 [00:21<00:00, 18.50it/s]\n"
          ]
        },
        {
          "metadata": {
            "tags": null
          },
          "name": "stdout",
          "output_type": "stream",
          "text": [
            "\n",
            "Test set: Average loss: 0.8815, Accuracy: 7045/10000 (70.45%)\n",
            "\n",
            "EPOCH: 19\n"
          ]
        },
        {
          "metadata": {
            "tags": null
          },
          "name": "stderr",
          "output_type": "stream",
          "text": [
            "Loss=1.1059255599975586 Batch_id=390 Accuracy=58.74: 100%|██████████| 391/391 [00:20<00:00, 18.66it/s]\n"
          ]
        },
        {
          "metadata": {
            "tags": null
          },
          "name": "stdout",
          "output_type": "stream",
          "text": [
            "\n",
            "Test set: Average loss: 0.7836, Accuracy: 7400/10000 (74.00%)\n",
            "\n",
            "EPOCH: 20\n"
          ]
        },
        {
          "metadata": {
            "tags": null
          },
          "name": "stderr",
          "output_type": "stream",
          "text": [
            "Loss=1.4265553951263428 Batch_id=390 Accuracy=59.35: 100%|██████████| 391/391 [00:22<00:00, 17.60it/s]\n"
          ]
        },
        {
          "metadata": {
            "tags": null
          },
          "name": "stdout",
          "output_type": "stream",
          "text": [
            "\n",
            "Test set: Average loss: 0.7733, Accuracy: 7460/10000 (74.60%)\n",
            "\n",
            "EPOCH: 21\n"
          ]
        },
        {
          "metadata": {
            "tags": null
          },
          "name": "stderr",
          "output_type": "stream",
          "text": [
            "Loss=1.4967067241668701 Batch_id=390 Accuracy=59.98: 100%|██████████| 391/391 [00:21<00:00, 18.37it/s]\n"
          ]
        },
        {
          "metadata": {
            "tags": null
          },
          "name": "stdout",
          "output_type": "stream",
          "text": [
            "\n",
            "Test set: Average loss: 0.7770, Accuracy: 7395/10000 (73.95%)\n",
            "\n",
            "EPOCH: 22\n"
          ]
        },
        {
          "metadata": {
            "tags": null
          },
          "name": "stderr",
          "output_type": "stream",
          "text": [
            "Loss=1.425014615058899 Batch_id=390 Accuracy=59.83: 100%|██████████| 391/391 [00:21<00:00, 18.47it/s]\n"
          ]
        },
        {
          "metadata": {
            "tags": null
          },
          "name": "stdout",
          "output_type": "stream",
          "text": [
            "\n",
            "Test set: Average loss: 0.7542, Accuracy: 7463/10000 (74.63%)\n",
            "\n",
            "EPOCH: 23\n"
          ]
        },
        {
          "metadata": {
            "tags": null
          },
          "name": "stderr",
          "output_type": "stream",
          "text": [
            "Loss=1.3309645652770996 Batch_id=390 Accuracy=59.76: 100%|██████████| 391/391 [00:21<00:00, 17.93it/s]\n"
          ]
        },
        {
          "metadata": {
            "tags": null
          },
          "name": "stdout",
          "output_type": "stream",
          "text": [
            "\n",
            "Test set: Average loss: 0.7773, Accuracy: 7420/10000 (74.20%)\n",
            "\n",
            "EPOCH: 24\n"
          ]
        },
        {
          "metadata": {
            "tags": null
          },
          "name": "stderr",
          "output_type": "stream",
          "text": [
            "Loss=1.3264484405517578 Batch_id=390 Accuracy=60.62: 100%|██████████| 391/391 [00:21<00:00, 18.55it/s]\n"
          ]
        },
        {
          "metadata": {
            "tags": null
          },
          "name": "stdout",
          "output_type": "stream",
          "text": [
            "\n",
            "Test set: Average loss: 0.7333, Accuracy: 7619/10000 (76.19%)\n",
            "\n",
            "EPOCH: 25\n"
          ]
        },
        {
          "metadata": {
            "tags": null
          },
          "name": "stderr",
          "output_type": "stream",
          "text": [
            "Loss=0.9846401214599609 Batch_id=390 Accuracy=60.72: 100%|██████████| 391/391 [00:20<00:00, 19.14it/s]\n"
          ]
        },
        {
          "metadata": {
            "tags": null
          },
          "name": "stdout",
          "output_type": "stream",
          "text": [
            "\n",
            "Test set: Average loss: 0.7661, Accuracy: 7409/10000 (74.09%)\n",
            "\n",
            "EPOCH: 26\n"
          ]
        },
        {
          "metadata": {
            "tags": null
          },
          "name": "stderr",
          "output_type": "stream",
          "text": [
            "Loss=1.1011568307876587 Batch_id=390 Accuracy=60.96: 100%|██████████| 391/391 [00:20<00:00, 19.21it/s]\n"
          ]
        },
        {
          "metadata": {
            "tags": null
          },
          "name": "stdout",
          "output_type": "stream",
          "text": [
            "\n",
            "Test set: Average loss: 0.7746, Accuracy: 7446/10000 (74.46%)\n",
            "\n",
            "EPOCH: 27\n"
          ]
        },
        {
          "metadata": {
            "tags": null
          },
          "name": "stderr",
          "output_type": "stream",
          "text": [
            "Loss=0.9015341997146606 Batch_id=390 Accuracy=60.83: 100%|██████████| 391/391 [00:20<00:00, 19.30it/s]\n"
          ]
        },
        {
          "metadata": {
            "tags": null
          },
          "name": "stdout",
          "output_type": "stream",
          "text": [
            "\n",
            "Test set: Average loss: 0.7277, Accuracy: 7599/10000 (75.99%)\n",
            "\n",
            "EPOCH: 28\n"
          ]
        },
        {
          "metadata": {
            "tags": null
          },
          "name": "stderr",
          "output_type": "stream",
          "text": [
            "Loss=1.4333510398864746 Batch_id=390 Accuracy=61.01: 100%|██████████| 391/391 [00:21<00:00, 18.47it/s]\n"
          ]
        },
        {
          "metadata": {
            "tags": null
          },
          "name": "stdout",
          "output_type": "stream",
          "text": [
            "\n",
            "Test set: Average loss: 0.7506, Accuracy: 7562/10000 (75.62%)\n",
            "\n",
            "EPOCH: 29\n"
          ]
        },
        {
          "metadata": {
            "tags": null
          },
          "name": "stderr",
          "output_type": "stream",
          "text": [
            "Loss=1.31815505027771 Batch_id=390 Accuracy=61.22: 100%|██████████| 391/391 [00:20<00:00, 18.64it/s]\n"
          ]
        },
        {
          "metadata": {
            "tags": null
          },
          "name": "stdout",
          "output_type": "stream",
          "text": [
            "\n",
            "Test set: Average loss: 0.7361, Accuracy: 7575/10000 (75.75%)\n",
            "\n",
            "EPOCH: 30\n"
          ]
        },
        {
          "metadata": {
            "tags": null
          },
          "name": "stderr",
          "output_type": "stream",
          "text": [
            "Loss=1.184014916419983 Batch_id=390 Accuracy=61.42: 100%|██████████| 391/391 [00:22<00:00, 17.31it/s]\n"
          ]
        },
        {
          "metadata": {
            "tags": null
          },
          "name": "stdout",
          "output_type": "stream",
          "text": [
            "\n",
            "Test set: Average loss: 0.7377, Accuracy: 7558/10000 (75.58%)\n",
            "\n",
            "EPOCH: 31\n"
          ]
        },
        {
          "metadata": {
            "tags": null
          },
          "name": "stderr",
          "output_type": "stream",
          "text": [
            "Loss=1.0744478702545166 Batch_id=390 Accuracy=61.45: 100%|██████████| 391/391 [00:20<00:00, 18.62it/s]\n"
          ]
        },
        {
          "metadata": {
            "tags": null
          },
          "name": "stdout",
          "output_type": "stream",
          "text": [
            "\n",
            "Test set: Average loss: 0.8785, Accuracy: 7176/10000 (71.76%)\n",
            "\n",
            "EPOCH: 32\n"
          ]
        },
        {
          "metadata": {
            "tags": null
          },
          "name": "stderr",
          "output_type": "stream",
          "text": [
            "Loss=1.0232740640640259 Batch_id=390 Accuracy=62.73: 100%|██████████| 391/391 [00:21<00:00, 18.57it/s]\n"
          ]
        },
        {
          "metadata": {
            "tags": null
          },
          "name": "stdout",
          "output_type": "stream",
          "text": [
            "\n",
            "Test set: Average loss: 0.6857, Accuracy: 7707/10000 (77.07%)\n",
            "\n",
            "EPOCH: 33\n"
          ]
        },
        {
          "metadata": {
            "tags": null
          },
          "name": "stderr",
          "output_type": "stream",
          "text": [
            "Loss=1.269256830215454 Batch_id=390 Accuracy=63.13: 100%|██████████| 391/391 [00:21<00:00, 18.30it/s]\n"
          ]
        },
        {
          "metadata": {
            "tags": null
          },
          "name": "stdout",
          "output_type": "stream",
          "text": [
            "\n",
            "Test set: Average loss: 0.6432, Accuracy: 7876/10000 (78.76%)\n",
            "\n",
            "EPOCH: 34\n"
          ]
        },
        {
          "metadata": {
            "tags": null
          },
          "name": "stderr",
          "output_type": "stream",
          "text": [
            "Loss=0.9485543966293335 Batch_id=390 Accuracy=63.46: 100%|██████████| 391/391 [00:20<00:00, 18.84it/s]\n"
          ]
        },
        {
          "metadata": {
            "tags": null
          },
          "name": "stdout",
          "output_type": "stream",
          "text": [
            "\n",
            "Test set: Average loss: 0.6649, Accuracy: 7798/10000 (77.98%)\n",
            "\n",
            "EPOCH: 35\n"
          ]
        },
        {
          "metadata": {
            "tags": null
          },
          "name": "stderr",
          "output_type": "stream",
          "text": [
            "Loss=1.1523869037628174 Batch_id=390 Accuracy=63.46: 100%|██████████| 391/391 [00:20<00:00, 19.19it/s]\n"
          ]
        },
        {
          "metadata": {
            "tags": null
          },
          "name": "stdout",
          "output_type": "stream",
          "text": [
            "\n",
            "Test set: Average loss: 0.6628, Accuracy: 7804/10000 (78.04%)\n",
            "\n",
            "EPOCH: 36\n"
          ]
        },
        {
          "metadata": {
            "tags": null
          },
          "name": "stderr",
          "output_type": "stream",
          "text": [
            "Loss=1.1720452308654785 Batch_id=390 Accuracy=63.17: 100%|██████████| 391/391 [00:21<00:00, 18.00it/s]\n"
          ]
        },
        {
          "metadata": {
            "tags": null
          },
          "name": "stdout",
          "output_type": "stream",
          "text": [
            "\n",
            "Test set: Average loss: 0.6926, Accuracy: 7731/10000 (77.31%)\n",
            "\n",
            "EPOCH: 37\n"
          ]
        },
        {
          "metadata": {
            "tags": null
          },
          "name": "stderr",
          "output_type": "stream",
          "text": [
            "Loss=1.0660736560821533 Batch_id=390 Accuracy=63.30: 100%|██████████| 391/391 [00:21<00:00, 18.60it/s]\n"
          ]
        },
        {
          "metadata": {
            "tags": null
          },
          "name": "stdout",
          "output_type": "stream",
          "text": [
            "\n",
            "Test set: Average loss: 0.6842, Accuracy: 7755/10000 (77.55%)\n",
            "\n",
            "EPOCH: 38\n"
          ]
        },
        {
          "metadata": {
            "tags": null
          },
          "name": "stderr",
          "output_type": "stream",
          "text": [
            "Loss=1.0470197200775146 Batch_id=390 Accuracy=64.21: 100%|██████████| 391/391 [00:24<00:00, 16.22it/s]\n"
          ]
        },
        {
          "metadata": {
            "tags": null
          },
          "name": "stdout",
          "output_type": "stream",
          "text": [
            "\n",
            "Test set: Average loss: 0.6398, Accuracy: 7894/10000 (78.94%)\n",
            "\n",
            "EPOCH: 39\n"
          ]
        },
        {
          "metadata": {
            "tags": null
          },
          "name": "stderr",
          "output_type": "stream",
          "text": [
            "Loss=0.8215585947036743 Batch_id=390 Accuracy=64.85: 100%|██████████| 391/391 [00:20<00:00, 18.63it/s]\n"
          ]
        },
        {
          "metadata": {
            "tags": null
          },
          "name": "stdout",
          "output_type": "stream",
          "text": [
            "\n",
            "Test set: Average loss: 0.6347, Accuracy: 7894/10000 (78.94%)\n",
            "\n",
            "EPOCH: 40\n"
          ]
        },
        {
          "metadata": {
            "tags": null
          },
          "name": "stderr",
          "output_type": "stream",
          "text": [
            "Loss=1.1809742450714111 Batch_id=390 Accuracy=65.14: 100%|██████████| 391/391 [00:21<00:00, 18.11it/s]\n"
          ]
        },
        {
          "metadata": {
            "tags": null
          },
          "name": "stdout",
          "output_type": "stream",
          "text": [
            "\n",
            "Test set: Average loss: 0.6242, Accuracy: 7933/10000 (79.33%)\n",
            "\n",
            "EPOCH: 41\n"
          ]
        },
        {
          "metadata": {
            "tags": null
          },
          "name": "stderr",
          "output_type": "stream",
          "text": [
            "Loss=1.088869333267212 Batch_id=390 Accuracy=64.81: 100%|██████████| 391/391 [00:20<00:00, 18.79it/s]\n"
          ]
        },
        {
          "metadata": {
            "tags": null
          },
          "name": "stdout",
          "output_type": "stream",
          "text": [
            "\n",
            "Test set: Average loss: 0.6184, Accuracy: 7928/10000 (79.28%)\n",
            "\n",
            "EPOCH: 42\n"
          ]
        },
        {
          "metadata": {
            "tags": null
          },
          "name": "stderr",
          "output_type": "stream",
          "text": [
            "Loss=1.0757888555526733 Batch_id=390 Accuracy=65.15: 100%|██████████| 391/391 [00:20<00:00, 18.90it/s]\n"
          ]
        },
        {
          "metadata": {
            "tags": null
          },
          "name": "stdout",
          "output_type": "stream",
          "text": [
            "\n",
            "Test set: Average loss: 0.5976, Accuracy: 8005/10000 (80.05%)\n",
            "\n",
            "EPOCH: 43\n"
          ]
        },
        {
          "metadata": {
            "tags": null
          },
          "name": "stderr",
          "output_type": "stream",
          "text": [
            "Loss=1.066718339920044 Batch_id=390 Accuracy=65.16: 100%|██████████| 391/391 [00:21<00:00, 18.59it/s]\n"
          ]
        },
        {
          "metadata": {
            "tags": null
          },
          "name": "stdout",
          "output_type": "stream",
          "text": [
            "\n",
            "Test set: Average loss: 0.6590, Accuracy: 7823/10000 (78.23%)\n",
            "\n",
            "EPOCH: 44\n"
          ]
        },
        {
          "metadata": {
            "tags": null
          },
          "name": "stderr",
          "output_type": "stream",
          "text": [
            "Loss=1.2584915161132812 Batch_id=390 Accuracy=65.16: 100%|██████████| 391/391 [00:22<00:00, 17.72it/s]\n"
          ]
        },
        {
          "metadata": {
            "tags": null
          },
          "name": "stdout",
          "output_type": "stream",
          "text": [
            "\n",
            "Test set: Average loss: 0.6112, Accuracy: 7989/10000 (79.89%)\n",
            "\n",
            "EPOCH: 45\n"
          ]
        },
        {
          "metadata": {
            "tags": null
          },
          "name": "stderr",
          "output_type": "stream",
          "text": [
            "Loss=1.1435668468475342 Batch_id=390 Accuracy=65.22: 100%|██████████| 391/391 [00:23<00:00, 16.53it/s]\n"
          ]
        },
        {
          "metadata": {
            "tags": null
          },
          "name": "stdout",
          "output_type": "stream",
          "text": [
            "\n",
            "Test set: Average loss: 0.6109, Accuracy: 7981/10000 (79.81%)\n",
            "\n",
            "EPOCH: 46\n"
          ]
        },
        {
          "metadata": {
            "tags": null
          },
          "name": "stderr",
          "output_type": "stream",
          "text": [
            "Loss=1.0901515483856201 Batch_id=390 Accuracy=65.19: 100%|██████████| 391/391 [00:22<00:00, 17.70it/s]\n"
          ]
        },
        {
          "metadata": {
            "tags": null
          },
          "name": "stdout",
          "output_type": "stream",
          "text": [
            "\n",
            "Test set: Average loss: 0.5979, Accuracy: 8027/10000 (80.27%)\n",
            "\n",
            "EPOCH: 47\n"
          ]
        },
        {
          "metadata": {
            "tags": null
          },
          "name": "stderr",
          "output_type": "stream",
          "text": [
            "Loss=0.783997118473053 Batch_id=390 Accuracy=66.08: 100%|██████████| 391/391 [00:21<00:00, 18.48it/s]\n"
          ]
        },
        {
          "metadata": {
            "tags": null
          },
          "name": "stdout",
          "output_type": "stream",
          "text": [
            "\n",
            "Test set: Average loss: 0.5658, Accuracy: 8145/10000 (81.45%)\n",
            "\n",
            "EPOCH: 48\n"
          ]
        },
        {
          "metadata": {
            "tags": null
          },
          "name": "stderr",
          "output_type": "stream",
          "text": [
            "Loss=1.1318625211715698 Batch_id=390 Accuracy=66.19: 100%|██████████| 391/391 [00:21<00:00, 18.46it/s]\n"
          ]
        },
        {
          "metadata": {
            "tags": null
          },
          "name": "stdout",
          "output_type": "stream",
          "text": [
            "\n",
            "Test set: Average loss: 0.6536, Accuracy: 7899/10000 (78.99%)\n",
            "\n",
            "EPOCH: 49\n"
          ]
        },
        {
          "metadata": {
            "tags": null
          },
          "name": "stderr",
          "output_type": "stream",
          "text": [
            "Loss=1.2843406200408936 Batch_id=390 Accuracy=66.19: 100%|██████████| 391/391 [00:22<00:00, 17.63it/s]\n"
          ]
        },
        {
          "metadata": {
            "tags": null
          },
          "name": "stdout",
          "output_type": "stream",
          "text": [
            "\n",
            "Test set: Average loss: 0.5930, Accuracy: 8029/10000 (80.29%)\n",
            "\n",
            "EPOCH: 50\n"
          ]
        },
        {
          "metadata": {
            "tags": null
          },
          "name": "stderr",
          "output_type": "stream",
          "text": [
            "Loss=0.9373900294303894 Batch_id=390 Accuracy=66.28: 100%|██████████| 391/391 [00:21<00:00, 18.21it/s]\n"
          ]
        },
        {
          "metadata": {
            "tags": null
          },
          "name": "stdout",
          "output_type": "stream",
          "text": [
            "\n",
            "Test set: Average loss: 0.5894, Accuracy: 8087/10000 (80.87%)\n",
            "\n",
            "EPOCH: 51\n"
          ]
        },
        {
          "metadata": {
            "tags": null
          },
          "name": "stderr",
          "output_type": "stream",
          "text": [
            "Loss=0.9732037782669067 Batch_id=390 Accuracy=66.17: 100%|██████████| 391/391 [00:21<00:00, 17.93it/s]\n"
          ]
        },
        {
          "metadata": {
            "tags": null
          },
          "name": "stdout",
          "output_type": "stream",
          "text": [
            "\n",
            "Test set: Average loss: 0.5931, Accuracy: 8032/10000 (80.32%)\n",
            "\n",
            "EPOCH: 52\n"
          ]
        },
        {
          "metadata": {
            "tags": null
          },
          "name": "stderr",
          "output_type": "stream",
          "text": [
            "Loss=1.1602511405944824 Batch_id=390 Accuracy=67.18: 100%|██████████| 391/391 [00:21<00:00, 18.50it/s]\n"
          ]
        },
        {
          "metadata": {
            "tags": null
          },
          "name": "stdout",
          "output_type": "stream",
          "text": [
            "\n",
            "Test set: Average loss: 0.5490, Accuracy: 8191/10000 (81.91%)\n",
            "\n",
            "EPOCH: 53\n"
          ]
        },
        {
          "metadata": {
            "tags": null
          },
          "name": "stderr",
          "output_type": "stream",
          "text": [
            "Loss=1.120539903640747 Batch_id=390 Accuracy=67.18: 100%|██████████| 391/391 [00:25<00:00, 15.54it/s]\n"
          ]
        },
        {
          "metadata": {
            "tags": null
          },
          "name": "stdout",
          "output_type": "stream",
          "text": [
            "\n",
            "Test set: Average loss: 0.5629, Accuracy: 8107/10000 (81.07%)\n",
            "\n",
            "EPOCH: 54\n"
          ]
        },
        {
          "metadata": {
            "tags": null
          },
          "name": "stderr",
          "output_type": "stream",
          "text": [
            "Loss=0.9632316827774048 Batch_id=390 Accuracy=67.41: 100%|██████████| 391/391 [00:21<00:00, 18.44it/s]\n"
          ]
        },
        {
          "metadata": {
            "tags": null
          },
          "name": "stdout",
          "output_type": "stream",
          "text": [
            "\n",
            "Test set: Average loss: 0.5470, Accuracy: 8168/10000 (81.68%)\n",
            "\n",
            "EPOCH: 55\n"
          ]
        },
        {
          "metadata": {
            "tags": null
          },
          "name": "stderr",
          "output_type": "stream",
          "text": [
            "Loss=1.276604413986206 Batch_id=390 Accuracy=67.24: 100%|██████████| 391/391 [00:22<00:00, 17.57it/s]\n"
          ]
        },
        {
          "metadata": {
            "tags": null
          },
          "name": "stdout",
          "output_type": "stream",
          "text": [
            "\n",
            "Test set: Average loss: 0.5850, Accuracy: 8105/10000 (81.05%)\n",
            "\n",
            "EPOCH: 56\n"
          ]
        },
        {
          "metadata": {
            "tags": null
          },
          "name": "stderr",
          "output_type": "stream",
          "text": [
            "Loss=1.1510831117630005 Batch_id=390 Accuracy=67.52: 100%|██████████| 391/391 [00:21<00:00, 18.27it/s]\n"
          ]
        },
        {
          "metadata": {
            "tags": null
          },
          "name": "stdout",
          "output_type": "stream",
          "text": [
            "\n",
            "Test set: Average loss: 0.5575, Accuracy: 8183/10000 (81.83%)\n",
            "\n",
            "EPOCH: 57\n"
          ]
        },
        {
          "metadata": {
            "tags": null
          },
          "name": "stderr",
          "output_type": "stream",
          "text": [
            "Loss=1.1082019805908203 Batch_id=390 Accuracy=67.68: 100%|██████████| 391/391 [00:21<00:00, 18.62it/s]\n"
          ]
        },
        {
          "metadata": {
            "tags": null
          },
          "name": "stdout",
          "output_type": "stream",
          "text": [
            "\n",
            "Test set: Average loss: 0.5653, Accuracy: 8111/10000 (81.11%)\n",
            "\n",
            "EPOCH: 58\n"
          ]
        },
        {
          "metadata": {
            "tags": null
          },
          "name": "stderr",
          "output_type": "stream",
          "text": [
            "Loss=0.8811373710632324 Batch_id=390 Accuracy=67.57: 100%|██████████| 391/391 [00:21<00:00, 18.18it/s]\n"
          ]
        },
        {
          "metadata": {
            "tags": null
          },
          "name": "stdout",
          "output_type": "stream",
          "text": [
            "\n",
            "Test set: Average loss: 0.5478, Accuracy: 8215/10000 (82.15%)\n",
            "\n",
            "EPOCH: 59\n"
          ]
        },
        {
          "metadata": {
            "tags": null
          },
          "name": "stderr",
          "output_type": "stream",
          "text": [
            "Loss=0.9636799693107605 Batch_id=390 Accuracy=67.99: 100%|██████████| 391/391 [00:21<00:00, 18.45it/s]\n"
          ]
        },
        {
          "metadata": {
            "tags": null
          },
          "name": "stdout",
          "output_type": "stream",
          "text": [
            "\n",
            "Test set: Average loss: 0.5260, Accuracy: 8278/10000 (82.78%)\n",
            "\n",
            "EPOCH: 60\n"
          ]
        },
        {
          "metadata": {
            "tags": null
          },
          "name": "stderr",
          "output_type": "stream",
          "text": [
            "Loss=0.805916965007782 Batch_id=390 Accuracy=68.09: 100%|██████████| 391/391 [00:24<00:00, 15.99it/s]\n"
          ]
        },
        {
          "metadata": {
            "tags": null
          },
          "name": "stdout",
          "output_type": "stream",
          "text": [
            "\n",
            "Test set: Average loss: 0.5277, Accuracy: 8256/10000 (82.56%)\n",
            "\n",
            "EPOCH: 61\n"
          ]
        },
        {
          "metadata": {
            "tags": null
          },
          "name": "stderr",
          "output_type": "stream",
          "text": [
            "Loss=0.927221417427063 Batch_id=390 Accuracy=68.46: 100%|██████████| 391/391 [00:22<00:00, 17.44it/s]\n"
          ]
        },
        {
          "metadata": {
            "tags": null
          },
          "name": "stdout",
          "output_type": "stream",
          "text": [
            "\n",
            "Test set: Average loss: 0.5418, Accuracy: 8214/10000 (82.14%)\n",
            "\n",
            "EPOCH: 62\n"
          ]
        },
        {
          "metadata": {
            "tags": null
          },
          "name": "stderr",
          "output_type": "stream",
          "text": [
            "Loss=0.9538083076477051 Batch_id=390 Accuracy=68.30: 100%|██████████| 391/391 [00:21<00:00, 18.53it/s]\n"
          ]
        },
        {
          "metadata": {
            "tags": null
          },
          "name": "stdout",
          "output_type": "stream",
          "text": [
            "\n",
            "Test set: Average loss: 0.5284, Accuracy: 8254/10000 (82.54%)\n",
            "\n",
            "EPOCH: 63\n"
          ]
        },
        {
          "metadata": {
            "tags": null
          },
          "name": "stderr",
          "output_type": "stream",
          "text": [
            "Loss=0.9099537134170532 Batch_id=390 Accuracy=68.35: 100%|██████████| 391/391 [00:21<00:00, 18.27it/s]\n"
          ]
        },
        {
          "metadata": {
            "tags": null
          },
          "name": "stdout",
          "output_type": "stream",
          "text": [
            "\n",
            "Test set: Average loss: 0.5245, Accuracy: 8279/10000 (82.79%)\n",
            "\n",
            "EPOCH: 64\n"
          ]
        },
        {
          "metadata": {
            "tags": null
          },
          "name": "stderr",
          "output_type": "stream",
          "text": [
            "Loss=1.1318533420562744 Batch_id=390 Accuracy=68.73: 100%|██████████| 391/391 [00:21<00:00, 18.08it/s]\n"
          ]
        },
        {
          "metadata": {
            "tags": null
          },
          "name": "stdout",
          "output_type": "stream",
          "text": [
            "\n",
            "Test set: Average loss: 0.5178, Accuracy: 8309/10000 (83.09%)\n",
            "\n",
            "EPOCH: 65\n"
          ]
        },
        {
          "metadata": {
            "tags": null
          },
          "name": "stderr",
          "output_type": "stream",
          "text": [
            "Loss=0.8324493169784546 Batch_id=390 Accuracy=68.39: 100%|██████████| 391/391 [00:21<00:00, 18.24it/s]\n"
          ]
        },
        {
          "metadata": {
            "tags": null
          },
          "name": "stdout",
          "output_type": "stream",
          "text": [
            "\n",
            "Test set: Average loss: 0.5215, Accuracy: 8282/10000 (82.82%)\n",
            "\n",
            "EPOCH: 66\n"
          ]
        },
        {
          "metadata": {
            "tags": null
          },
          "name": "stderr",
          "output_type": "stream",
          "text": [
            "Loss=0.8703789710998535 Batch_id=390 Accuracy=68.66: 100%|██████████| 391/391 [00:21<00:00, 17.95it/s]\n"
          ]
        },
        {
          "metadata": {
            "tags": null
          },
          "name": "stdout",
          "output_type": "stream",
          "text": [
            "\n",
            "Test set: Average loss: 0.5146, Accuracy: 8264/10000 (82.64%)\n",
            "\n",
            "EPOCH: 67\n"
          ]
        },
        {
          "metadata": {
            "tags": null
          },
          "name": "stderr",
          "output_type": "stream",
          "text": [
            "Loss=1.0485937595367432 Batch_id=390 Accuracy=68.63: 100%|██████████| 391/391 [00:21<00:00, 18.31it/s]\n"
          ]
        },
        {
          "metadata": {
            "tags": null
          },
          "name": "stdout",
          "output_type": "stream",
          "text": [
            "\n",
            "Test set: Average loss: 0.5008, Accuracy: 8332/10000 (83.32%)\n",
            "\n",
            "EPOCH: 68\n"
          ]
        },
        {
          "metadata": {
            "tags": null
          },
          "name": "stderr",
          "output_type": "stream",
          "text": [
            "Loss=1.049951434135437 Batch_id=390 Accuracy=68.74: 100%|██████████| 391/391 [00:24<00:00, 15.74it/s]\n"
          ]
        },
        {
          "metadata": {
            "tags": null
          },
          "name": "stdout",
          "output_type": "stream",
          "text": [
            "\n",
            "Test set: Average loss: 0.5244, Accuracy: 8240/10000 (82.40%)\n",
            "\n",
            "EPOCH: 69\n"
          ]
        },
        {
          "metadata": {
            "tags": null
          },
          "name": "stderr",
          "output_type": "stream",
          "text": [
            "Loss=0.9873534440994263 Batch_id=390 Accuracy=68.29: 100%|██████████| 391/391 [00:21<00:00, 18.29it/s]\n"
          ]
        },
        {
          "metadata": {
            "tags": null
          },
          "name": "stdout",
          "output_type": "stream",
          "text": [
            "\n",
            "Test set: Average loss: 0.5293, Accuracy: 8256/10000 (82.56%)\n",
            "\n",
            "EPOCH: 70\n"
          ]
        },
        {
          "metadata": {
            "tags": null
          },
          "name": "stderr",
          "output_type": "stream",
          "text": [
            "Loss=0.9089479446411133 Batch_id=390 Accuracy=68.58: 100%|██████████| 391/391 [00:21<00:00, 17.96it/s]\n"
          ]
        },
        {
          "metadata": {
            "tags": null
          },
          "name": "stdout",
          "output_type": "stream",
          "text": [
            "\n",
            "Test set: Average loss: 0.5252, Accuracy: 8267/10000 (82.67%)\n",
            "\n",
            "EPOCH: 71\n"
          ]
        },
        {
          "metadata": {
            "tags": null
          },
          "name": "stderr",
          "output_type": "stream",
          "text": [
            "Loss=0.9753127098083496 Batch_id=390 Accuracy=68.88: 100%|██████████| 391/391 [00:21<00:00, 18.33it/s]\n"
          ]
        },
        {
          "metadata": {
            "tags": null
          },
          "name": "stdout",
          "output_type": "stream",
          "text": [
            "\n",
            "Test set: Average loss: 0.5050, Accuracy: 8375/10000 (83.75%)\n",
            "\n",
            "EPOCH: 72\n"
          ]
        },
        {
          "output_type": "stream",
          "name": "stderr",
          "text": [
            "Loss=1.0230995416641235 Batch_id=390 Accuracy=69.23: 100%|██████████| 391/391 [00:21<00:00, 17.83it/s]\n"
          ]
        },
        {
          "output_type": "stream",
          "name": "stdout",
          "text": [
            "\n",
            "Test set: Average loss: 0.5070, Accuracy: 8317/10000 (83.17%)\n",
            "\n",
            "EPOCH: 73\n"
          ]
        },
        {
          "output_type": "stream",
          "name": "stderr",
          "text": [
            "Loss=0.9421344995498657 Batch_id=390 Accuracy=69.00: 100%|██████████| 391/391 [00:21<00:00, 17.82it/s]\n"
          ]
        },
        {
          "output_type": "stream",
          "name": "stdout",
          "text": [
            "\n",
            "Test set: Average loss: 0.5174, Accuracy: 8314/10000 (83.14%)\n",
            "\n",
            "EPOCH: 74\n"
          ]
        },
        {
          "output_type": "stream",
          "name": "stderr",
          "text": [
            "Loss=0.9603129625320435 Batch_id=390 Accuracy=68.87: 100%|██████████| 391/391 [00:21<00:00, 18.09it/s]\n"
          ]
        },
        {
          "output_type": "stream",
          "name": "stdout",
          "text": [
            "\n",
            "Test set: Average loss: 0.4983, Accuracy: 8368/10000 (83.68%)\n",
            "\n",
            "EPOCH: 75\n"
          ]
        },
        {
          "output_type": "stream",
          "name": "stderr",
          "text": [
            "Loss=0.7494078874588013 Batch_id=390 Accuracy=69.22: 100%|██████████| 391/391 [00:25<00:00, 15.17it/s]\n"
          ]
        },
        {
          "output_type": "stream",
          "name": "stdout",
          "text": [
            "\n",
            "Test set: Average loss: 0.5050, Accuracy: 8348/10000 (83.48%)\n",
            "\n",
            "EPOCH: 76\n"
          ]
        },
        {
          "output_type": "stream",
          "name": "stderr",
          "text": [
            "Loss=1.045647382736206 Batch_id=390 Accuracy=69.22: 100%|██████████| 391/391 [00:21<00:00, 17.78it/s]\n"
          ]
        },
        {
          "output_type": "stream",
          "name": "stdout",
          "text": [
            "\n",
            "Test set: Average loss: 0.4998, Accuracy: 8383/10000 (83.83%)\n",
            "\n",
            "EPOCH: 77\n"
          ]
        },
        {
          "output_type": "stream",
          "name": "stderr",
          "text": [
            "Loss=1.2078115940093994 Batch_id=390 Accuracy=69.39: 100%|██████████| 391/391 [00:21<00:00, 18.04it/s]\n"
          ]
        },
        {
          "output_type": "stream",
          "name": "stdout",
          "text": [
            "\n",
            "Test set: Average loss: 0.4959, Accuracy: 8385/10000 (83.85%)\n",
            "\n",
            "EPOCH: 78\n"
          ]
        },
        {
          "output_type": "stream",
          "name": "stderr",
          "text": [
            "Loss=0.9500932693481445 Batch_id=390 Accuracy=69.54: 100%|██████████| 391/391 [00:22<00:00, 17.23it/s]\n"
          ]
        },
        {
          "output_type": "stream",
          "name": "stdout",
          "text": [
            "\n",
            "Test set: Average loss: 0.4993, Accuracy: 8374/10000 (83.74%)\n",
            "\n",
            "EPOCH: 79\n"
          ]
        },
        {
          "output_type": "stream",
          "name": "stderr",
          "text": [
            "Loss=1.0732629299163818 Batch_id=390 Accuracy=69.59: 100%|██████████| 391/391 [00:21<00:00, 17.90it/s]\n"
          ]
        },
        {
          "output_type": "stream",
          "name": "stdout",
          "text": [
            "\n",
            "Test set: Average loss: 0.4951, Accuracy: 8384/10000 (83.84%)\n",
            "\n",
            "EPOCH: 80\n"
          ]
        },
        {
          "output_type": "stream",
          "name": "stderr",
          "text": [
            "Loss=0.899154543876648 Batch_id=390 Accuracy=69.25: 100%|██████████| 391/391 [00:21<00:00, 17.81it/s]\n"
          ]
        },
        {
          "output_type": "stream",
          "name": "stdout",
          "text": [
            "\n",
            "Test set: Average loss: 0.4853, Accuracy: 8394/10000 (83.94%)\n",
            "\n",
            "EPOCH: 81\n"
          ]
        },
        {
          "output_type": "stream",
          "name": "stderr",
          "text": [
            "Loss=0.8721206784248352 Batch_id=390 Accuracy=69.55: 100%|██████████| 391/391 [00:21<00:00, 18.07it/s]\n"
          ]
        },
        {
          "output_type": "stream",
          "name": "stdout",
          "text": [
            "\n",
            "Test set: Average loss: 0.4978, Accuracy: 8352/10000 (83.52%)\n",
            "\n",
            "EPOCH: 82\n"
          ]
        },
        {
          "output_type": "stream",
          "name": "stderr",
          "text": [
            "Loss=0.9214686155319214 Batch_id=390 Accuracy=69.56: 100%|██████████| 391/391 [00:24<00:00, 16.17it/s]\n"
          ]
        },
        {
          "output_type": "stream",
          "name": "stdout",
          "text": [
            "\n",
            "Test set: Average loss: 0.4900, Accuracy: 8378/10000 (83.78%)\n",
            "\n",
            "EPOCH: 83\n"
          ]
        },
        {
          "output_type": "stream",
          "name": "stderr",
          "text": [
            "Loss=0.7561839818954468 Batch_id=390 Accuracy=69.88: 100%|██████████| 391/391 [00:21<00:00, 18.36it/s]\n"
          ]
        },
        {
          "output_type": "stream",
          "name": "stdout",
          "text": [
            "\n",
            "Test set: Average loss: 0.4929, Accuracy: 8379/10000 (83.79%)\n",
            "\n",
            "EPOCH: 84\n"
          ]
        },
        {
          "output_type": "stream",
          "name": "stderr",
          "text": [
            "Loss=0.8193861842155457 Batch_id=390 Accuracy=69.47: 100%|██████████| 391/391 [00:21<00:00, 17.78it/s]\n"
          ]
        },
        {
          "output_type": "stream",
          "name": "stdout",
          "text": [
            "\n",
            "Test set: Average loss: 0.4944, Accuracy: 8385/10000 (83.85%)\n",
            "\n",
            "EPOCH: 85\n"
          ]
        },
        {
          "output_type": "stream",
          "name": "stderr",
          "text": [
            "Loss=0.925021767616272 Batch_id=390 Accuracy=69.89: 100%|██████████| 391/391 [00:21<00:00, 17.80it/s]\n"
          ]
        },
        {
          "output_type": "stream",
          "name": "stdout",
          "text": [
            "\n",
            "Test set: Average loss: 0.4877, Accuracy: 8374/10000 (83.74%)\n",
            "\n",
            "EPOCH: 86\n"
          ]
        },
        {
          "output_type": "stream",
          "name": "stderr",
          "text": [
            "Loss=0.9451456069946289 Batch_id=390 Accuracy=70.08: 100%|██████████| 391/391 [00:21<00:00, 17.98it/s]\n"
          ]
        },
        {
          "output_type": "stream",
          "name": "stdout",
          "text": [
            "\n",
            "Test set: Average loss: 0.4940, Accuracy: 8369/10000 (83.69%)\n",
            "\n",
            "EPOCH: 87\n"
          ]
        },
        {
          "output_type": "stream",
          "name": "stderr",
          "text": [
            "Loss=1.0098634958267212 Batch_id=390 Accuracy=69.93: 100%|██████████| 391/391 [00:21<00:00, 18.53it/s]\n"
          ]
        },
        {
          "output_type": "stream",
          "name": "stdout",
          "text": [
            "\n",
            "Test set: Average loss: 0.4802, Accuracy: 8429/10000 (84.29%)\n",
            "\n",
            "EPOCH: 88\n"
          ]
        },
        {
          "output_type": "stream",
          "name": "stderr",
          "text": [
            "Loss=0.7206149101257324 Batch_id=390 Accuracy=70.32: 100%|██████████| 391/391 [00:22<00:00, 17.08it/s]\n"
          ]
        },
        {
          "output_type": "stream",
          "name": "stdout",
          "text": [
            "\n",
            "Test set: Average loss: 0.4847, Accuracy: 8429/10000 (84.29%)\n",
            "\n",
            "EPOCH: 89\n"
          ]
        },
        {
          "output_type": "stream",
          "name": "stderr",
          "text": [
            "Loss=1.1099587678909302 Batch_id=390 Accuracy=69.89: 100%|██████████| 391/391 [00:21<00:00, 17.92it/s]\n"
          ]
        },
        {
          "output_type": "stream",
          "name": "stdout",
          "text": [
            "\n",
            "Test set: Average loss: 0.4839, Accuracy: 8385/10000 (83.85%)\n",
            "\n",
            "EPOCH: 90\n"
          ]
        },
        {
          "output_type": "stream",
          "name": "stderr",
          "text": [
            "Loss=0.9867966771125793 Batch_id=390 Accuracy=70.05: 100%|██████████| 391/391 [00:24<00:00, 16.27it/s]\n"
          ]
        },
        {
          "output_type": "stream",
          "name": "stdout",
          "text": [
            "\n",
            "Test set: Average loss: 0.4837, Accuracy: 8390/10000 (83.90%)\n",
            "\n",
            "EPOCH: 91\n"
          ]
        },
        {
          "output_type": "stream",
          "name": "stderr",
          "text": [
            "Loss=0.9626021385192871 Batch_id=390 Accuracy=70.10: 100%|██████████| 391/391 [00:22<00:00, 17.22it/s]\n"
          ]
        },
        {
          "output_type": "stream",
          "name": "stdout",
          "text": [
            "\n",
            "Test set: Average loss: 0.4745, Accuracy: 8458/10000 (84.58%)\n",
            "\n",
            "EPOCH: 92\n"
          ]
        },
        {
          "output_type": "stream",
          "name": "stderr",
          "text": [
            "Loss=0.8893787264823914 Batch_id=390 Accuracy=70.18: 100%|██████████| 391/391 [00:21<00:00, 18.35it/s]\n"
          ]
        },
        {
          "output_type": "stream",
          "name": "stdout",
          "text": [
            "\n",
            "Test set: Average loss: 0.4878, Accuracy: 8397/10000 (83.97%)\n",
            "\n",
            "EPOCH: 93\n"
          ]
        },
        {
          "output_type": "stream",
          "name": "stderr",
          "text": [
            "Loss=0.9327006340026855 Batch_id=390 Accuracy=70.21: 100%|██████████| 391/391 [00:21<00:00, 17.98it/s]\n"
          ]
        },
        {
          "output_type": "stream",
          "name": "stdout",
          "text": [
            "\n",
            "Test set: Average loss: 0.4930, Accuracy: 8382/10000 (83.82%)\n",
            "\n",
            "EPOCH: 94\n"
          ]
        },
        {
          "output_type": "stream",
          "name": "stderr",
          "text": [
            "Loss=0.9631301164627075 Batch_id=390 Accuracy=70.62: 100%|██████████| 391/391 [00:21<00:00, 18.27it/s]\n"
          ]
        },
        {
          "output_type": "stream",
          "name": "stdout",
          "text": [
            "\n",
            "Test set: Average loss: 0.4827, Accuracy: 8420/10000 (84.20%)\n",
            "\n",
            "EPOCH: 95\n"
          ]
        },
        {
          "output_type": "stream",
          "name": "stderr",
          "text": [
            "Loss=0.8403726816177368 Batch_id=390 Accuracy=70.47: 100%|██████████| 391/391 [00:21<00:00, 17.85it/s]\n"
          ]
        },
        {
          "output_type": "stream",
          "name": "stdout",
          "text": [
            "\n",
            "Test set: Average loss: 0.4788, Accuracy: 8448/10000 (84.48%)\n",
            "\n",
            "EPOCH: 96\n"
          ]
        },
        {
          "output_type": "stream",
          "name": "stderr",
          "text": [
            "Loss=0.8984915018081665 Batch_id=390 Accuracy=70.69: 100%|██████████| 391/391 [00:21<00:00, 17.99it/s]\n"
          ]
        },
        {
          "output_type": "stream",
          "name": "stdout",
          "text": [
            "\n",
            "Test set: Average loss: 0.4781, Accuracy: 8455/10000 (84.55%)\n",
            "\n",
            "EPOCH: 97\n"
          ]
        },
        {
          "output_type": "stream",
          "name": "stderr",
          "text": [
            "Loss=1.0671565532684326 Batch_id=390 Accuracy=70.83: 100%|██████████| 391/391 [00:23<00:00, 16.78it/s]\n"
          ]
        },
        {
          "output_type": "stream",
          "name": "stdout",
          "text": [
            "\n",
            "Test set: Average loss: 0.4766, Accuracy: 8428/10000 (84.28%)\n",
            "\n",
            "EPOCH: 98\n"
          ]
        },
        {
          "output_type": "stream",
          "name": "stderr",
          "text": [
            "Loss=1.0613961219787598 Batch_id=390 Accuracy=70.64: 100%|██████████| 391/391 [00:21<00:00, 18.29it/s]\n"
          ]
        },
        {
          "output_type": "stream",
          "name": "stdout",
          "text": [
            "\n",
            "Test set: Average loss: 0.4653, Accuracy: 8473/10000 (84.73%)\n",
            "\n",
            "EPOCH: 99\n"
          ]
        },
        {
          "output_type": "stream",
          "name": "stderr",
          "text": [
            "Loss=0.8889687657356262 Batch_id=390 Accuracy=70.52: 100%|██████████| 391/391 [00:22<00:00, 17.76it/s]\n"
          ]
        },
        {
          "output_type": "stream",
          "name": "stdout",
          "text": [
            "\n",
            "Test set: Average loss: 0.4651, Accuracy: 8465/10000 (84.65%)\n",
            "\n",
            "EPOCH: 100\n"
          ]
        },
        {
          "output_type": "stream",
          "name": "stderr",
          "text": [
            "Loss=1.0912421941757202 Batch_id=390 Accuracy=70.92: 100%|██████████| 391/391 [00:21<00:00, 18.09it/s]\n"
          ]
        },
        {
          "output_type": "stream",
          "name": "stdout",
          "text": [
            "\n",
            "Test set: Average loss: 0.4700, Accuracy: 8462/10000 (84.62%)\n",
            "\n",
            "EPOCH: 101\n"
          ]
        },
        {
          "output_type": "stream",
          "name": "stderr",
          "text": [
            "Loss=0.888713538646698 Batch_id=390 Accuracy=70.75: 100%|██████████| 391/391 [00:21<00:00, 18.19it/s]\n"
          ]
        },
        {
          "output_type": "stream",
          "name": "stdout",
          "text": [
            "\n",
            "Test set: Average loss: 0.4691, Accuracy: 8456/10000 (84.56%)\n",
            "\n",
            "EPOCH: 102\n"
          ]
        },
        {
          "output_type": "stream",
          "name": "stderr",
          "text": [
            "Loss=1.0585877895355225 Batch_id=390 Accuracy=70.75: 100%|██████████| 391/391 [00:22<00:00, 17.33it/s]\n"
          ]
        },
        {
          "output_type": "stream",
          "name": "stdout",
          "text": [
            "\n",
            "Test set: Average loss: 0.4745, Accuracy: 8449/10000 (84.49%)\n",
            "\n",
            "EPOCH: 103\n"
          ]
        },
        {
          "output_type": "stream",
          "name": "stderr",
          "text": [
            "Loss=0.7282471060752869 Batch_id=390 Accuracy=70.53: 100%|██████████| 391/391 [00:21<00:00, 17.98it/s]\n"
          ]
        },
        {
          "output_type": "stream",
          "name": "stdout",
          "text": [
            "\n",
            "Test set: Average loss: 0.4729, Accuracy: 8456/10000 (84.56%)\n",
            "\n",
            "EPOCH: 104\n"
          ]
        },
        {
          "output_type": "stream",
          "name": "stderr",
          "text": [
            "Loss=0.8846251368522644 Batch_id=390 Accuracy=70.60: 100%|██████████| 391/391 [00:21<00:00, 18.01it/s]\n"
          ]
        },
        {
          "output_type": "stream",
          "name": "stdout",
          "text": [
            "\n",
            "Test set: Average loss: 0.4651, Accuracy: 8474/10000 (84.74%)\n",
            "\n",
            "EPOCH: 105\n"
          ]
        },
        {
          "output_type": "stream",
          "name": "stderr",
          "text": [
            "Loss=0.6718360781669617 Batch_id=390 Accuracy=70.76: 100%|██████████| 391/391 [00:23<00:00, 16.44it/s]\n"
          ]
        },
        {
          "output_type": "stream",
          "name": "stdout",
          "text": [
            "\n",
            "Test set: Average loss: 0.4690, Accuracy: 8452/10000 (84.52%)\n",
            "\n",
            "EPOCH: 106\n"
          ]
        },
        {
          "output_type": "stream",
          "name": "stderr",
          "text": [
            "Loss=0.8491015434265137 Batch_id=390 Accuracy=70.98: 100%|██████████| 391/391 [00:22<00:00, 17.74it/s]\n"
          ]
        },
        {
          "output_type": "stream",
          "name": "stdout",
          "text": [
            "\n",
            "Test set: Average loss: 0.4714, Accuracy: 8486/10000 (84.86%)\n",
            "\n",
            "EPOCH: 107\n"
          ]
        },
        {
          "output_type": "stream",
          "name": "stderr",
          "text": [
            "Loss=1.0628904104232788 Batch_id=390 Accuracy=70.83: 100%|██████████| 391/391 [00:21<00:00, 18.50it/s]\n"
          ]
        },
        {
          "output_type": "stream",
          "name": "stdout",
          "text": [
            "\n",
            "Test set: Average loss: 0.4708, Accuracy: 8452/10000 (84.52%)\n",
            "\n",
            "EPOCH: 108\n"
          ]
        },
        {
          "output_type": "stream",
          "name": "stderr",
          "text": [
            "Loss=0.936214804649353 Batch_id=390 Accuracy=71.15: 100%|██████████| 391/391 [00:22<00:00, 17.08it/s]\n"
          ]
        },
        {
          "output_type": "stream",
          "name": "stdout",
          "text": [
            "\n",
            "Test set: Average loss: 0.4554, Accuracy: 8524/10000 (85.24%)\n",
            "\n",
            "EPOCH: 109\n"
          ]
        },
        {
          "output_type": "stream",
          "name": "stderr",
          "text": [
            "Loss=0.9559423327445984 Batch_id=390 Accuracy=70.93: 100%|██████████| 391/391 [00:21<00:00, 18.30it/s]\n"
          ]
        },
        {
          "output_type": "stream",
          "name": "stdout",
          "text": [
            "\n",
            "Test set: Average loss: 0.4622, Accuracy: 8494/10000 (84.94%)\n",
            "\n",
            "EPOCH: 110\n"
          ]
        },
        {
          "output_type": "stream",
          "name": "stderr",
          "text": [
            "Loss=1.0573064088821411 Batch_id=390 Accuracy=71.43: 100%|██████████| 391/391 [00:22<00:00, 17.54it/s]\n"
          ]
        },
        {
          "output_type": "stream",
          "name": "stdout",
          "text": [
            "\n",
            "Test set: Average loss: 0.4616, Accuracy: 8484/10000 (84.84%)\n",
            "\n",
            "EPOCH: 111\n"
          ]
        },
        {
          "output_type": "stream",
          "name": "stderr",
          "text": [
            "Loss=0.9516897201538086 Batch_id=390 Accuracy=71.49: 100%|██████████| 391/391 [00:22<00:00, 17.12it/s]\n"
          ]
        },
        {
          "output_type": "stream",
          "name": "stdout",
          "text": [
            "\n",
            "Test set: Average loss: 0.4615, Accuracy: 8482/10000 (84.82%)\n",
            "\n",
            "EPOCH: 112\n"
          ]
        },
        {
          "output_type": "stream",
          "name": "stderr",
          "text": [
            "Loss=1.037638783454895 Batch_id=390 Accuracy=71.45: 100%|██████████| 391/391 [00:23<00:00, 16.38it/s]\n"
          ]
        },
        {
          "output_type": "stream",
          "name": "stdout",
          "text": [
            "\n",
            "Test set: Average loss: 0.4594, Accuracy: 8501/10000 (85.01%)\n",
            "\n",
            "EPOCH: 113\n"
          ]
        },
        {
          "output_type": "stream",
          "name": "stderr",
          "text": [
            "Loss=0.8146859407424927 Batch_id=390 Accuracy=71.31: 100%|██████████| 391/391 [00:21<00:00, 18.00it/s]\n"
          ]
        },
        {
          "output_type": "stream",
          "name": "stdout",
          "text": [
            "\n",
            "Test set: Average loss: 0.4592, Accuracy: 8500/10000 (85.00%)\n",
            "\n",
            "EPOCH: 114\n"
          ]
        },
        {
          "output_type": "stream",
          "name": "stderr",
          "text": [
            "Loss=0.6821272969245911 Batch_id=390 Accuracy=71.57: 100%|██████████| 391/391 [00:21<00:00, 18.17it/s]\n"
          ]
        },
        {
          "output_type": "stream",
          "name": "stdout",
          "text": [
            "\n",
            "Test set: Average loss: 0.4504, Accuracy: 8521/10000 (85.21%)\n",
            "\n",
            "EPOCH: 115\n"
          ]
        },
        {
          "output_type": "stream",
          "name": "stderr",
          "text": [
            "Loss=0.9336017370223999 Batch_id=390 Accuracy=71.38: 100%|██████████| 391/391 [00:21<00:00, 18.01it/s]\n"
          ]
        },
        {
          "output_type": "stream",
          "name": "stdout",
          "text": [
            "\n",
            "Test set: Average loss: 0.4600, Accuracy: 8507/10000 (85.07%)\n",
            "\n",
            "EPOCH: 116\n"
          ]
        },
        {
          "output_type": "stream",
          "name": "stderr",
          "text": [
            "Loss=0.9951318502426147 Batch_id=390 Accuracy=71.77: 100%|██████████| 391/391 [00:22<00:00, 17.38it/s]\n"
          ]
        },
        {
          "output_type": "stream",
          "name": "stdout",
          "text": [
            "\n",
            "Test set: Average loss: 0.4564, Accuracy: 8502/10000 (85.02%)\n",
            "\n",
            "EPOCH: 117\n"
          ]
        },
        {
          "output_type": "stream",
          "name": "stderr",
          "text": [
            "Loss=1.0247509479522705 Batch_id=390 Accuracy=71.81: 100%|██████████| 391/391 [00:22<00:00, 17.47it/s]\n"
          ]
        },
        {
          "output_type": "stream",
          "name": "stdout",
          "text": [
            "\n",
            "Test set: Average loss: 0.4536, Accuracy: 8503/10000 (85.03%)\n",
            "\n",
            "EPOCH: 118\n"
          ]
        },
        {
          "output_type": "stream",
          "name": "stderr",
          "text": [
            "Loss=0.8150997161865234 Batch_id=390 Accuracy=71.72: 100%|██████████| 391/391 [00:22<00:00, 17.69it/s]\n"
          ]
        },
        {
          "output_type": "stream",
          "name": "stdout",
          "text": [
            "\n",
            "Test set: Average loss: 0.4563, Accuracy: 8517/10000 (85.17%)\n",
            "\n",
            "EPOCH: 119\n"
          ]
        },
        {
          "output_type": "stream",
          "name": "stderr",
          "text": [
            "Loss=0.8335493803024292 Batch_id=390 Accuracy=71.50: 100%|██████████| 391/391 [00:22<00:00, 17.76it/s]\n"
          ]
        },
        {
          "output_type": "stream",
          "name": "stdout",
          "text": [
            "\n",
            "Test set: Average loss: 0.4557, Accuracy: 8492/10000 (84.92%)\n",
            "\n",
            "EPOCH: 120\n"
          ]
        },
        {
          "output_type": "stream",
          "name": "stderr",
          "text": [
            "Loss=0.859405517578125 Batch_id=390 Accuracy=71.55: 100%|██████████| 391/391 [00:22<00:00, 17.10it/s]\n"
          ]
        },
        {
          "output_type": "stream",
          "name": "stdout",
          "text": [
            "\n",
            "Test set: Average loss: 0.4571, Accuracy: 8517/10000 (85.17%)\n",
            "\n",
            "EPOCH: 121\n"
          ]
        },
        {
          "output_type": "stream",
          "name": "stderr",
          "text": [
            "Loss=0.714469313621521 Batch_id=390 Accuracy=71.72: 100%|██████████| 391/391 [00:21<00:00, 18.00it/s]\n"
          ]
        },
        {
          "output_type": "stream",
          "name": "stdout",
          "text": [
            "\n",
            "Test set: Average loss: 0.4545, Accuracy: 8517/10000 (85.17%)\n",
            "\n",
            "EPOCH: 122\n"
          ]
        },
        {
          "output_type": "stream",
          "name": "stderr",
          "text": [
            "Loss=0.8887971639633179 Batch_id=390 Accuracy=72.01: 100%|██████████| 391/391 [00:21<00:00, 17.82it/s]\n"
          ]
        },
        {
          "output_type": "stream",
          "name": "stdout",
          "text": [
            "\n",
            "Test set: Average loss: 0.4527, Accuracy: 8521/10000 (85.21%)\n",
            "\n",
            "EPOCH: 123\n"
          ]
        },
        {
          "output_type": "stream",
          "name": "stderr",
          "text": [
            "Loss=0.7451499700546265 Batch_id=390 Accuracy=71.75: 100%|██████████| 391/391 [00:21<00:00, 18.45it/s]\n"
          ]
        },
        {
          "output_type": "stream",
          "name": "stdout",
          "text": [
            "\n",
            "Test set: Average loss: 0.4535, Accuracy: 8517/10000 (85.17%)\n",
            "\n",
            "EPOCH: 124\n"
          ]
        },
        {
          "output_type": "stream",
          "name": "stderr",
          "text": [
            "Loss=0.8429659605026245 Batch_id=390 Accuracy=71.75: 100%|██████████| 391/391 [00:22<00:00, 17.32it/s]\n"
          ]
        },
        {
          "output_type": "stream",
          "name": "stdout",
          "text": [
            "\n",
            "Test set: Average loss: 0.4528, Accuracy: 8535/10000 (85.35%)\n",
            "\n",
            "EPOCH: 125\n"
          ]
        },
        {
          "output_type": "stream",
          "name": "stderr",
          "text": [
            "Loss=0.9815629720687866 Batch_id=390 Accuracy=71.88: 100%|██████████| 391/391 [00:21<00:00, 18.18it/s]\n"
          ]
        },
        {
          "output_type": "stream",
          "name": "stdout",
          "text": [
            "\n",
            "Test set: Average loss: 0.4492, Accuracy: 8549/10000 (85.49%)\n",
            "\n",
            "EPOCH: 126\n"
          ]
        },
        {
          "output_type": "stream",
          "name": "stderr",
          "text": [
            "Loss=1.054311752319336 Batch_id=390 Accuracy=71.97: 100%|██████████| 391/391 [00:21<00:00, 17.86it/s]\n"
          ]
        },
        {
          "output_type": "stream",
          "name": "stdout",
          "text": [
            "\n",
            "Test set: Average loss: 0.4503, Accuracy: 8520/10000 (85.20%)\n",
            "\n",
            "EPOCH: 127\n"
          ]
        },
        {
          "output_type": "stream",
          "name": "stderr",
          "text": [
            "Loss=0.754169225692749 Batch_id=390 Accuracy=71.44: 100%|██████████| 391/391 [00:26<00:00, 14.68it/s]\n"
          ]
        },
        {
          "output_type": "stream",
          "name": "stdout",
          "text": [
            "\n",
            "Test set: Average loss: 0.4531, Accuracy: 8501/10000 (85.01%)\n",
            "\n",
            "EPOCH: 128\n"
          ]
        },
        {
          "output_type": "stream",
          "name": "stderr",
          "text": [
            "Loss=0.8883829116821289 Batch_id=390 Accuracy=71.90: 100%|██████████| 391/391 [00:21<00:00, 18.54it/s]\n"
          ]
        },
        {
          "output_type": "stream",
          "name": "stdout",
          "text": [
            "\n",
            "Test set: Average loss: 0.4544, Accuracy: 8525/10000 (85.25%)\n",
            "\n",
            "EPOCH: 129\n"
          ]
        },
        {
          "output_type": "stream",
          "name": "stderr",
          "text": [
            "Loss=1.1595121622085571 Batch_id=390 Accuracy=71.90: 100%|██████████| 391/391 [00:21<00:00, 17.85it/s]\n"
          ]
        },
        {
          "output_type": "stream",
          "name": "stdout",
          "text": [
            "\n",
            "Test set: Average loss: 0.4497, Accuracy: 8528/10000 (85.28%)\n",
            "\n",
            "EPOCH: 130\n"
          ]
        },
        {
          "output_type": "stream",
          "name": "stderr",
          "text": [
            "Loss=0.7378989458084106 Batch_id=390 Accuracy=71.81: 100%|██████████| 391/391 [00:21<00:00, 18.02it/s]\n"
          ]
        },
        {
          "output_type": "stream",
          "name": "stdout",
          "text": [
            "\n",
            "Test set: Average loss: 0.4500, Accuracy: 8531/10000 (85.31%)\n",
            "\n",
            "EPOCH: 131\n"
          ]
        },
        {
          "output_type": "stream",
          "name": "stderr",
          "text": [
            "Loss=0.9597184062004089 Batch_id=390 Accuracy=71.85: 100%|██████████| 391/391 [00:21<00:00, 18.39it/s]\n"
          ]
        },
        {
          "output_type": "stream",
          "name": "stdout",
          "text": [
            "\n",
            "Test set: Average loss: 0.4454, Accuracy: 8520/10000 (85.20%)\n",
            "\n",
            "EPOCH: 132\n"
          ]
        },
        {
          "output_type": "stream",
          "name": "stderr",
          "text": [
            "Loss=0.8097864389419556 Batch_id=390 Accuracy=71.78: 100%|██████████| 391/391 [00:22<00:00, 17.48it/s]\n"
          ]
        },
        {
          "output_type": "stream",
          "name": "stdout",
          "text": [
            "\n",
            "Test set: Average loss: 0.4503, Accuracy: 8515/10000 (85.15%)\n",
            "\n",
            "EPOCH: 133\n"
          ]
        },
        {
          "output_type": "stream",
          "name": "stderr",
          "text": [
            "Loss=0.7333136796951294 Batch_id=390 Accuracy=71.83: 100%|██████████| 391/391 [00:21<00:00, 18.37it/s]\n"
          ]
        },
        {
          "output_type": "stream",
          "name": "stdout",
          "text": [
            "\n",
            "Test set: Average loss: 0.4474, Accuracy: 8517/10000 (85.17%)\n",
            "\n",
            "EPOCH: 134\n"
          ]
        },
        {
          "output_type": "stream",
          "name": "stderr",
          "text": [
            "Loss=0.5845516920089722 Batch_id=390 Accuracy=71.88: 100%|██████████| 391/391 [00:21<00:00, 17.99it/s]\n"
          ]
        },
        {
          "output_type": "stream",
          "name": "stdout",
          "text": [
            "\n",
            "Test set: Average loss: 0.4493, Accuracy: 8520/10000 (85.20%)\n",
            "\n",
            "EPOCH: 135\n"
          ]
        },
        {
          "output_type": "stream",
          "name": "stderr",
          "text": [
            "Loss=0.9310816526412964 Batch_id=390 Accuracy=71.74: 100%|██████████| 391/391 [00:22<00:00, 17.16it/s]\n"
          ]
        },
        {
          "output_type": "stream",
          "name": "stdout",
          "text": [
            "\n",
            "Test set: Average loss: 0.4484, Accuracy: 8527/10000 (85.27%)\n",
            "\n",
            "EPOCH: 136\n"
          ]
        },
        {
          "output_type": "stream",
          "name": "stderr",
          "text": [
            "Loss=0.8202729225158691 Batch_id=390 Accuracy=71.86: 100%|██████████| 391/391 [00:21<00:00, 18.07it/s]\n"
          ]
        },
        {
          "output_type": "stream",
          "name": "stdout",
          "text": [
            "\n",
            "Test set: Average loss: 0.4462, Accuracy: 8549/10000 (85.49%)\n",
            "\n",
            "EPOCH: 137\n"
          ]
        },
        {
          "output_type": "stream",
          "name": "stderr",
          "text": [
            "Loss=0.7179223895072937 Batch_id=390 Accuracy=71.91: 100%|██████████| 391/391 [00:21<00:00, 18.24it/s]\n"
          ]
        },
        {
          "output_type": "stream",
          "name": "stdout",
          "text": [
            "\n",
            "Test set: Average loss: 0.4456, Accuracy: 8533/10000 (85.33%)\n",
            "\n",
            "EPOCH: 138\n"
          ]
        },
        {
          "output_type": "stream",
          "name": "stderr",
          "text": [
            "Loss=0.8776065111160278 Batch_id=390 Accuracy=71.45: 100%|██████████| 391/391 [00:21<00:00, 18.18it/s]\n"
          ]
        },
        {
          "output_type": "stream",
          "name": "stdout",
          "text": [
            "\n",
            "Test set: Average loss: 0.4485, Accuracy: 8514/10000 (85.14%)\n",
            "\n",
            "EPOCH: 139\n"
          ]
        },
        {
          "output_type": "stream",
          "name": "stderr",
          "text": [
            "Loss=0.8912870287895203 Batch_id=390 Accuracy=71.99: 100%|██████████| 391/391 [00:21<00:00, 18.34it/s]\n"
          ]
        },
        {
          "output_type": "stream",
          "name": "stdout",
          "text": [
            "\n",
            "Test set: Average loss: 0.4517, Accuracy: 8518/10000 (85.18%)\n",
            "\n",
            "EPOCH: 140\n"
          ]
        },
        {
          "output_type": "stream",
          "name": "stderr",
          "text": [
            "Loss=0.861286461353302 Batch_id=390 Accuracy=72.16: 100%|██████████| 391/391 [00:21<00:00, 17.79it/s]\n"
          ]
        },
        {
          "output_type": "stream",
          "name": "stdout",
          "text": [
            "\n",
            "Test set: Average loss: 0.4452, Accuracy: 8519/10000 (85.19%)\n",
            "\n",
            "EPOCH: 141\n"
          ]
        },
        {
          "output_type": "stream",
          "name": "stderr",
          "text": [
            "Loss=1.0321762561798096 Batch_id=390 Accuracy=72.30: 100%|██████████| 391/391 [00:21<00:00, 17.96it/s]\n"
          ]
        },
        {
          "output_type": "stream",
          "name": "stdout",
          "text": [
            "\n",
            "Test set: Average loss: 0.4471, Accuracy: 8516/10000 (85.16%)\n",
            "\n",
            "EPOCH: 142\n"
          ]
        },
        {
          "output_type": "stream",
          "name": "stderr",
          "text": [
            "Loss=0.7948952317237854 Batch_id=390 Accuracy=72.00: 100%|██████████| 391/391 [00:24<00:00, 16.22it/s]\n"
          ]
        },
        {
          "output_type": "stream",
          "name": "stdout",
          "text": [
            "\n",
            "Test set: Average loss: 0.4475, Accuracy: 8530/10000 (85.30%)\n",
            "\n",
            "EPOCH: 143\n"
          ]
        },
        {
          "output_type": "stream",
          "name": "stderr",
          "text": [
            "Loss=0.9874517321586609 Batch_id=390 Accuracy=71.83: 100%|██████████| 391/391 [00:22<00:00, 17.50it/s]\n"
          ]
        },
        {
          "output_type": "stream",
          "name": "stdout",
          "text": [
            "\n",
            "Test set: Average loss: 0.4525, Accuracy: 8513/10000 (85.13%)\n",
            "\n",
            "EPOCH: 144\n"
          ]
        },
        {
          "output_type": "stream",
          "name": "stderr",
          "text": [
            "Loss=0.7395519018173218 Batch_id=390 Accuracy=71.79: 100%|██████████| 391/391 [00:21<00:00, 17.88it/s]\n"
          ]
        },
        {
          "output_type": "stream",
          "name": "stdout",
          "text": [
            "\n",
            "Test set: Average loss: 0.4483, Accuracy: 8528/10000 (85.28%)\n",
            "\n",
            "EPOCH: 145\n"
          ]
        },
        {
          "output_type": "stream",
          "name": "stderr",
          "text": [
            "Loss=0.9174309968948364 Batch_id=390 Accuracy=71.88: 100%|██████████| 391/391 [00:21<00:00, 18.11it/s]\n"
          ]
        },
        {
          "output_type": "stream",
          "name": "stdout",
          "text": [
            "\n",
            "Test set: Average loss: 0.4419, Accuracy: 8548/10000 (85.48%)\n",
            "\n",
            "EPOCH: 146\n"
          ]
        },
        {
          "output_type": "stream",
          "name": "stderr",
          "text": [
            "Loss=0.7312885522842407 Batch_id=390 Accuracy=72.02: 100%|██████████| 391/391 [00:22<00:00, 17.11it/s]\n"
          ]
        },
        {
          "output_type": "stream",
          "name": "stdout",
          "text": [
            "\n",
            "Test set: Average loss: 0.4460, Accuracy: 8542/10000 (85.42%)\n",
            "\n",
            "EPOCH: 147\n"
          ]
        },
        {
          "output_type": "stream",
          "name": "stderr",
          "text": [
            "Loss=0.9412795901298523 Batch_id=390 Accuracy=71.93: 100%|██████████| 391/391 [00:21<00:00, 17.95it/s]\n"
          ]
        },
        {
          "output_type": "stream",
          "name": "stdout",
          "text": [
            "\n",
            "Test set: Average loss: 0.4491, Accuracy: 8531/10000 (85.31%)\n",
            "\n",
            "EPOCH: 148\n"
          ]
        },
        {
          "output_type": "stream",
          "name": "stderr",
          "text": [
            "Loss=0.8292037844657898 Batch_id=390 Accuracy=72.16: 100%|██████████| 391/391 [00:21<00:00, 17.86it/s]\n"
          ]
        },
        {
          "output_type": "stream",
          "name": "stdout",
          "text": [
            "\n",
            "Test set: Average loss: 0.4474, Accuracy: 8531/10000 (85.31%)\n",
            "\n",
            "EPOCH: 149\n"
          ]
        },
        {
          "output_type": "stream",
          "name": "stderr",
          "text": [
            "Loss=0.954598069190979 Batch_id=390 Accuracy=71.56: 100%|██████████| 391/391 [00:22<00:00, 17.28it/s]\n"
          ]
        },
        {
          "output_type": "stream",
          "name": "stdout",
          "text": [
            "\n",
            "Test set: Average loss: 0.4472, Accuracy: 8524/10000 (85.24%)\n",
            "\n",
            "EPOCH: 150\n"
          ]
        },
        {
          "output_type": "stream",
          "name": "stderr",
          "text": [
            "Loss=0.8123047947883606 Batch_id=390 Accuracy=72.11: 100%|██████████| 391/391 [00:22<00:00, 17.73it/s]\n"
          ]
        },
        {
          "output_type": "stream",
          "name": "stdout",
          "text": [
            "\n",
            "Test set: Average loss: 0.4487, Accuracy: 8535/10000 (85.35%)\n",
            "\n"
          ]
        }
      ]
    }
  ]
}